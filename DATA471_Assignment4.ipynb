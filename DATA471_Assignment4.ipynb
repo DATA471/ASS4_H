{
 "cells": [
  {
   "cell_type": "markdown",
   "id": "0677e0b5",
   "metadata": {},
   "source": [
    "- DATA471 - Assginment 4\n",
    "- Name: Heba Aleterji"
   ]
  },
  {
   "cell_type": "markdown",
   "id": "b4c53437",
   "metadata": {},
   "source": [
    "# Part 1:  EDA"
   ]
  },
  {
   "cell_type": "markdown",
   "id": "ba5560d4",
   "metadata": {},
   "source": [
    "### Import Library "
   ]
  },
  {
   "cell_type": "code",
   "execution_count": 1,
   "id": "b74c0da2-6591-442c-9884-e62b19386f55",
   "metadata": {},
   "outputs": [],
   "source": [
    "import pandas as pd\n",
    "import numpy as np\n",
    "import seaborn as sns\n",
    "import matplotlib.pyplot as plt\n",
    "from sklearn.model_selection import train_test_split\n",
    "from sklearn.linear_model import LogisticRegression\n",
    "from sklearn.metrics import roc_auc_score\n",
    "from sklearn.ensemble import RandomForestClassifier"
   ]
  },
  {
   "cell_type": "markdown",
   "id": "b99ab053",
   "metadata": {},
   "source": [
    "### Reading dataset"
   ]
  },
  {
   "cell_type": "markdown",
   "id": "4d226814",
   "metadata": {},
   "source": [
    "Load two dataset CSV files into pandas DataFrames:\n",
    "- (train-1.csv) for training and exvaluation the model \n",
    "- (test-1.csv) for testing model geeralization on unseen dta  "
   ]
  },
  {
   "cell_type": "code",
   "execution_count": 110,
   "id": "47f70fdb-cca6-4507-9033-57a17c9fa950",
   "metadata": {},
   "outputs": [],
   "source": [
    "# Load the dataset\n",
    "train_data = pd.read_csv('train-1.csv')\n",
    "test_data = pd.read_csv('test-1.csv')"
   ]
  },
  {
   "cell_type": "code",
   "execution_count": null,
   "id": "932aaa96-8b8f-4f68-a058-9ab3a60b1620",
   "metadata": {},
   "outputs": [],
   "source": [
    "# View the first few rows of the training data\n",
    "# print(train_data.head())"
   ]
  },
  {
   "cell_type": "markdown",
   "id": "dafaefc2",
   "metadata": {},
   "source": [
    "### Data Discreption: "
   ]
  },
  {
   "cell_type": "code",
   "execution_count": 113,
   "id": "3c2944d6-71cd-41bf-b84e-1159a4ff7638",
   "metadata": {},
   "outputs": [
    {
     "name": "stdout",
     "output_type": "stream",
     "text": [
      "<class 'pandas.core.frame.DataFrame'>\n",
      "Int64Index: 6061 entries, 0 to 6116\n",
      "Data columns (total 14 columns):\n",
      " #   Column               Non-Null Count  Dtype         \n",
      "---  ------               --------------  -----         \n",
      " 0   customer_id          6061 non-null   object        \n",
      " 1   year_of_observation  6061 non-null   int64         \n",
      " 2   insured_period       6061 non-null   float64       \n",
      " 3   residential          6061 non-null   int64         \n",
      " 4   building_painted     6061 non-null   object        \n",
      " 5   building_fenced      6061 non-null   object        \n",
      " 6   garden               6054 non-null   object        \n",
      " 7   settlement           6061 non-null   object        \n",
      " 8   building_dimension   5959 non-null   float64       \n",
      " 9   building_type        6061 non-null   int64         \n",
      " 10  date_of_occupancy    5603 non-null   datetime64[ns]\n",
      " 11  number_of_windows    6061 non-null   object        \n",
      " 12  geo_code             5963 non-null   object        \n",
      " 13  claim                6061 non-null   int64         \n",
      "dtypes: datetime64[ns](1), float64(2), int64(4), object(7)\n",
      "memory usage: 710.3+ KB\n",
      "None\n"
     ]
    }
   ],
   "source": [
    "# Check the info and data types\n",
    "print(train_data.info())"
   ]
  },
  {
   "cell_type": "markdown",
   "id": "e105c48a",
   "metadata": {},
   "source": [
    "- **Dataset contain 13 variables,** 7 continuios variables and 6 categorical variables.\n",
    "- **Categorical Columns are:** customer_id, building_painted, building_fenced, garden, settlement, number_of_windows\n",
    "- **Numerical Columns:** year_of_observation, insured_period, residential, building_dimension, building_type, date_of_occupancy, claim"
   ]
  },
  {
   "cell_type": "markdown",
   "id": "a7bfabee",
   "metadata": {},
   "source": [
    "### Convert Wrong Data Type:"
   ]
  },
  {
   "cell_type": "code",
   "execution_count": 112,
   "id": "6bb46c6d",
   "metadata": {},
   "outputs": [],
   "source": [
    "import pandas as pd\n",
    "\n",
    "# Assuming train_data is a pandas DataFrame\n",
    "\n",
    "# Function to check if a value can be converted to an integer\n",
    "def is_integer(value):\n",
    "    try:\n",
    "        int(value)\n",
    "        return True\n",
    "    except ValueError:\n",
    "        return False\n",
    "\n",
    "# Function to check if a value can be converted to a float\n",
    "def is_float(value):\n",
    "    try:\n",
    "        float(value)\n",
    "        return True\n",
    "    except ValueError:\n",
    "        return False\n",
    "\n",
    "# Remove rows with invalid data in the 'number_of_windows' column\n",
    "#train_data = train_data[train_data['number_of_windows'].apply(is_integer)]\n",
    "\n",
    "# Convert the 'number_of_windows' column to an integer data type\n",
    "#train_data['number_of_windows'] = train_data['number_of_windows'].astype(int)\n",
    "\n",
    "# Convert the 'date_of_occupancy' column to a datetime data type\n",
    "train_data['date_of_occupancy'] = pd.to_datetime(train_data['date_of_occupancy'], errors='coerce')\n",
    "\n",
    "# Remove rows with invalid data in the 'geo_code' column\n",
    "train_data = train_data[train_data['geo_code'].apply(is_float)]"
   ]
  },
  {
   "cell_type": "markdown",
   "id": "afd89074",
   "metadata": {},
   "source": [
    "### Variable Data Type: \n",
    "- The code below used to print the unique value for each variables."
   ]
  },
  {
   "cell_type": "code",
   "execution_count": 114,
   "id": "9cdd39a1",
   "metadata": {},
   "outputs": [
    {
     "name": "stdout",
     "output_type": "stream",
     "text": [
      "Column: customer_id\n",
      "Unique Values: ['H14663' 'H2037' 'H3802' ... 'H5926' 'H6537' 'H7470']\n",
      "----------------------------------------\n",
      "Column: year_of_observation\n",
      "Unique Values: [2013 2015 2014 2012]\n",
      "----------------------------------------\n",
      "Column: insured_period\n",
      "Unique Values: [1.         0.24109589 0.84383562 0.08493151 0.85753425 0.29589041\n",
      " 0.         0.91506849 0.98630137 0.16164384 0.99726027 0.09589041\n",
      " 0.66575343 0.89315069 0.58082192 0.83287671 0.26027397 0.7479452\n",
      " 0.41803279 0.10410959 0.76986301 0.02465753 0.47671233 0.86575342\n",
      " 0.55464481 0.44808743 0.50273224 0.46849315 0.79726027 0.31506849\n",
      " 0.59452055 0.74863388 0.17534247 0.11780822 0.12054795 0.49589041\n",
      " 0.91530055 0.48087432 0.78082192 0.02191781 0.24863388 0.69589041\n",
      " 0.94794521 0.50410959 0.82739726 0.52054795 0.58196721 0.16393443\n",
      " 0.86885246 0.83606557 0.98356164 0.24657534 0.79178082 0.19452055\n",
      " 0.41643836 0.95342466 0.41369863 0.25205479 0.80273973 0.38356164\n",
      " 0.96721311 0.91780822 0.25136612 0.15068493 0.48493151 0.91256831\n",
      " 0.96448087 0.62191781 0.12021858 0.63114754 0.21369863 0.92328767\n",
      " 0.3369863  0.99726776 0.32876712 0.84931507 0.84657534 0.64657534\n",
      " 0.96712329 0.27123288 0.89863014 0.33972603 0.66849315 0.50958904\n",
      " 0.78356164 0.08767123 0.03835616 0.75409836 0.29315069 0.57103825\n",
      " 0.25956284 0.75342466 0.65753425 0.44383562 0.67123288 0.72876712\n",
      " 0.16666667 0.79452055 0.35890411 0.4109589  0.18356164 0.21917808\n",
      " 0.77808219 0.32328767 0.46575342 0.22465753 0.73150685 0.19125683\n",
      " 0.46721312 0.49315068 0.97808219 0.91232877 0.90163934 0.54644809\n",
      " 0.09315068 0.5369863  0.43169399 0.36712329 0.45753425 0.95890411\n",
      " 0.25479452 0.83835616 0.08219178 0.61202186 0.80327869 0.03825137\n",
      " 0.16712329 0.12876712 0.87123288 0.74520548 0.33060109 0.0739726\n",
      " 0.07671233 0.08469945 0.15890411 0.14246575 0.23561644 0.72054794\n",
      " 0.12328767 0.53972603 0.13150685 0.89041096 0.21311475 0.83333333\n",
      " 0.61369863 0.9726776  0.77868852 0.35245902 0.58469945 0.93715847\n",
      " 0.95616438 0.48219178 0.3479452  0.18630137 0.2109589  0.45081967\n",
      " 0.95355191 0.82240437 0.75136612 0.6420765  0.96438356 0.86849315\n",
      " 0.10684932 0.23013699 0.63013699 0.88219178 0.21643836 0.81643836\n",
      " 0.10958904 0.1890411  0.8739726  0.26849315 0.75068493 0.84109589\n",
      " 0.68032787 0.82191781 0.86027397 0.59726027 0.56712329 0.43561644\n",
      " 0.54098361 0.33424657 0.63287671 0.30874317 0.43715847 0.57808219\n",
      " 0.93150685 0.32054795 0.81369863 0.7369863  0.715847   0.45355191\n",
      " 0.16438356 0.77534247 0.8        0.41530055 0.60547945 0.99453552\n",
      " 0.49726776 0.06027397 0.9260274  0.58630137 0.19726027 0.06010929\n",
      " 0.60655738 0.43835616 0.45901639 0.27671233 0.81917808 0.66666667\n",
      " 0.45479452 0.22191781 0.85479452 0.95068493 0.8442623  0.88767123\n",
      " 0.94246575 0.94520548 0.97260274 0.53551913 0.09863014 0.44535519\n",
      " 0.64109589 0.9369863  0.67486339 0.17260274 0.07103825 0.90684931\n",
      " 0.48767123 0.19672131 0.70958904 0.51780822 0.30136986 0.06557377\n",
      " 0.88493151 0.71311475 0.47123288 0.47945205 0.93424657 0.33333333\n",
      " 0.22739726 0.90136986 0.82786885 0.20547945 0.99452055 0.29508197\n",
      " 0.2        0.6630137  0.82465753 0.52328767 0.0520548  0.75616438\n",
      " 0.7890411  0.15300546 0.55616438 0.10928962 0.51092896 0.76712329\n",
      " 0.5273224  0.36164384 0.96174863 0.30054645 0.28493151 0.83879781\n",
      " 0.53424657 0.80547945 0.97534247 0.54520548 0.87978142 0.04918033\n",
      " 0.04644809 0.2630137  0.56010929 0.88251366 0.74590164 0.20821918\n",
      " 0.04109589 0.38082192 0.18082192 0.88797814 0.90958904 0.24931507\n",
      " 0.92076503 0.78961749 0.31147541 0.96164384 0.73424658 0.12295082\n",
      " 0.29041096 0.65205479 0.1369863  0.30327869 0.15846995 0.6\n",
      " 0.90983607 0.46448087 0.83013699 0.56438356 0.34520548 0.4520548\n",
      " 0.33150685 0.54371585 0.34153005 0.17759563 0.69315068 0.04383562\n",
      " 0.44931507 0.20218579 0.07945205 0.71038251 0.37808219 0.68852459\n",
      " 0.5260274  0.69863014 0.6739726  0.05191257 0.5479452  0.60382514\n",
      " 0.08196721 0.7431694  0.16986301 0.9890411  0.70218579 0.80821918\n",
      " 0.05753425 0.75956284 0.60821918 0.68219178 0.57923497 0.33879781\n",
      " 0.18032787 0.06830601 0.37260274 0.94262295 0.17213115 0.92896175\n",
      " 0.32786885 0.99178082 0.81147541 0.05479452 0.78630137 0.84699454\n",
      " 0.8109589  0.43442623 0.67759563 0.58356164 0.04657534 0.66027397\n",
      " 0.03561644 0.73972603 0.94535519 0.03013699]\n",
      "----------------------------------------\n",
      "Column: residential\n",
      "Unique Values: [0 1]\n",
      "----------------------------------------\n",
      "Column: building_painted\n",
      "Unique Values: ['N' 'V']\n",
      "----------------------------------------\n",
      "Column: building_fenced\n",
      "Unique Values: ['V' 'N']\n",
      "----------------------------------------\n",
      "Column: garden\n",
      "Unique Values: ['V' 'O' nan]\n",
      "----------------------------------------\n",
      "Column: settlement\n",
      "Unique Values: ['U' 'R']\n",
      "----------------------------------------\n",
      "Column: building_dimension\n",
      "Unique Values: [ 290.  490.  595. ...  224. 3006. 1864.]\n",
      "----------------------------------------\n",
      "Column: building_type\n",
      "Unique Values: [1 2 4 3]\n",
      "----------------------------------------\n",
      "Column: date_of_occupancy\n",
      "Unique Values: ['1970-01-01T00:00:00.000001960' '1970-01-01T00:00:00.000001850'\n",
      " '1970-01-01T00:00:00.000001800' '1970-01-01T00:00:00.000001980'\n",
      " '1970-01-01T00:00:00.000001988' '1970-01-01T00:00:00.000002013'\n",
      " '1970-01-01T00:00:00.000002011' '1970-01-01T00:00:00.000001550'\n",
      " '1970-01-01T00:00:00.000001900' '1970-01-01T00:00:00.000002007'\n",
      " '1970-01-01T00:00:00.000001970' '1970-01-01T00:00:00.000001976'\n",
      " '1970-01-01T00:00:00.000001950' '1970-01-01T00:00:00.000001920'\n",
      " '1970-01-01T00:00:00.000001982' '1970-01-01T00:00:00.000001972'\n",
      " '1970-01-01T00:00:00.000002010' '1970-01-01T00:00:00.000001971'\n",
      " '1970-01-01T00:00:00.000001995' '1970-01-01T00:00:00.000002006'\n",
      " '1970-01-01T00:00:00.000001999' '1970-01-01T00:00:00.000001969'\n",
      " '1970-01-01T00:00:00.000001985'                           'NaT'\n",
      " '1970-01-01T00:00:00.000001940' '1970-01-01T00:00:00.000001997'\n",
      " '1970-01-01T00:00:00.000001990' '1970-01-01T00:00:00.000001965'\n",
      " '1970-01-01T00:00:00.000001930' '1970-01-01T00:00:00.000001973'\n",
      " '1970-01-01T00:00:00.000001991' '1970-01-01T00:00:00.000001974'\n",
      " '1970-01-01T00:00:00.000001978' '1970-01-01T00:00:00.000001967'\n",
      " '1970-01-01T00:00:00.000001927' '1970-01-01T00:00:00.000001952'\n",
      " '1970-01-01T00:00:00.000002009' '1970-01-01T00:00:00.000001977'\n",
      " '1970-01-01T00:00:00.000001890' '1970-01-01T00:00:00.000001949'\n",
      " '1970-01-01T00:00:00.000001975' '1970-01-01T00:00:00.000001951'\n",
      " '1970-01-01T00:00:00.000002008' '1970-01-01T00:00:00.000002000'\n",
      " '1970-01-01T00:00:00.000001956' '1970-01-01T00:00:00.000001993'\n",
      " '1970-01-01T00:00:00.000002003' '1970-01-01T00:00:00.000001912'\n",
      " '1970-01-01T00:00:00.000001983' '1970-01-01T00:00:00.000001954'\n",
      " '1970-01-01T00:00:00.000001968' '1970-01-01T00:00:00.000002004'\n",
      " '1970-01-01T00:00:00.000001958' '1970-01-01T00:00:00.000001966'\n",
      " '1970-01-01T00:00:00.000001953' '1970-01-01T00:00:00.000001979'\n",
      " '1970-01-01T00:00:00.000001955' '1970-01-01T00:00:00.000002001'\n",
      " '1970-01-01T00:00:00.000001987' '1970-01-01T00:00:00.000001870'\n",
      " '1970-01-01T00:00:00.000001957' '1970-01-01T00:00:00.000001961'\n",
      " '1970-01-01T00:00:00.000001981' '1970-01-01T00:00:00.000002015'\n",
      " '1970-01-01T00:00:00.000001613' '1970-01-01T00:00:00.000001962'\n",
      " '1970-01-01T00:00:00.000001700' '1970-01-01T00:00:00.000001964'\n",
      " '1970-01-01T00:00:00.000002002' '1970-01-01T00:00:00.000001986'\n",
      " '1970-01-01T00:00:00.000001992' '1970-01-01T00:00:00.000002005'\n",
      " '1970-01-01T00:00:00.000002012' '1970-01-01T00:00:00.000001910'\n",
      " '1970-01-01T00:00:00.000001945' '1970-01-01T00:00:00.000001864'\n",
      " '1970-01-01T00:00:00.000001942' '1970-01-01T00:00:00.000001939'\n",
      " '1970-01-01T00:00:00.000001998' '1970-01-01T00:00:00.000001908'\n",
      " '1970-01-01T00:00:00.000001948' '1970-01-01T00:00:00.000001860'\n",
      " '1970-01-01T00:00:00.000001926' '1970-01-01T00:00:00.000001895'\n",
      " '1970-01-01T00:00:00.000002014' '1970-01-01T00:00:00.000001545'\n",
      " '1970-01-01T00:00:00.000001959' '1970-01-01T00:00:00.000001996'\n",
      " '1970-01-01T00:00:00.000001984' '1970-01-01T00:00:00.000001963'\n",
      " '1970-01-01T00:00:00.000001840' '1970-01-01T00:00:00.000001989'\n",
      " '1970-01-01T00:00:00.000001718' '1970-01-01T00:00:00.000001875'\n",
      " '1970-01-01T00:00:00.000001898' '1970-01-01T00:00:00.000001880'\n",
      " '1970-01-01T00:00:00.000001600' '1970-01-01T00:00:00.000001994'\n",
      " '1970-01-01T00:00:00.000001810' '1970-01-01T00:00:00.000001937'\n",
      " '1970-01-01T00:00:00.000001907' '1970-01-01T00:00:00.000001931'\n",
      " '1970-01-01T00:00:00.000001925' '1970-01-01T00:00:00.000001935'\n",
      " '1970-01-01T00:00:00.000001824' '1970-01-01T00:00:00.000001914'\n",
      " '1970-01-01T00:00:00.000001750' '1970-01-01T00:00:00.000001846'\n",
      " '1970-01-01T00:00:00.000001903' '1970-01-01T00:00:00.000001905'\n",
      " '1970-01-01T00:00:00.000001906' '1970-01-01T00:00:00.000001830'\n",
      " '1970-01-01T00:00:00.000001923' '1970-01-01T00:00:00.000001924'\n",
      " '1970-01-01T00:00:00.000001928' '1970-01-01T00:00:00.000001947'\n",
      " '1970-01-01T00:00:00.000001911' '1970-01-01T00:00:00.000001904'\n",
      " '1970-01-01T00:00:00.000001919' '1970-01-01T00:00:00.000001896'\n",
      " '1970-01-01T00:00:00.000001913' '1970-01-01T00:00:00.000001893'\n",
      " '1970-01-01T00:00:00.000001820' '1970-01-01T00:00:00.000001901'\n",
      " '1970-01-01T00:00:00.000001884' '1970-01-01T00:00:00.000001936'\n",
      " '1970-01-01T00:00:00.000001871' '1970-01-01T00:00:00.000001780'\n",
      " '1970-01-01T00:00:00.000001929']\n",
      "----------------------------------------\n",
      "Column: number_of_windows\n",
      "Unique Values: ['   .' '4' '3' '2' '5' '>=10' '6' '7' '8' '9' '1']\n",
      "----------------------------------------\n",
      "Column: geo_code\n",
      "Unique Values: ['1053' '1143' '1160' ... '95598' '95607' nan]\n",
      "----------------------------------------\n",
      "Column: claim\n",
      "Unique Values: [0 1]\n",
      "----------------------------------------\n"
     ]
    }
   ],
   "source": [
    "# Assuming train_data is a pandas DataFrame\n",
    "for column in train_data.columns:\n",
    "    unique_values = train_data[column].unique()\n",
    "    print(f\"Column: {column}\")\n",
    "    print(f\"Unique Values: {unique_values}\")\n",
    "    print(\"-\" * 40)"
   ]
  },
  {
   "cell_type": "markdown",
   "id": "681a7ab5",
   "metadata": {},
   "source": [
    "### Imbalance dataset: \n",
    "Check imbalabnce in dataset, by count the number of samples for each target class\n"
   ]
  },
  {
   "cell_type": "code",
   "execution_count": 115,
   "id": "a7869322",
   "metadata": {},
   "outputs": [
    {
     "name": "stdout",
     "output_type": "stream",
     "text": [
      "{0 : 4656}\n",
      "{1 : 1405}\n"
     ]
    }
   ],
   "source": [
    "import numpy as np\n",
    "for c in np.unique(train_data['claim']):\n",
    "    print('{%d : %d}' % (c, sum(train_data['claim']==c)))"
   ]
  },
  {
   "cell_type": "markdown",
   "id": "8684c936",
   "metadata": {},
   "source": [
    "- As you can see in the result, there 4698 with class 0. while class 1 account 1419 instances.\n",
    "- Thus, the dataset has imbalance issue."
   ]
  },
  {
   "cell_type": "markdown",
   "id": "588f0a10",
   "metadata": {},
   "source": [
    "### Descreptive:"
   ]
  },
  {
   "cell_type": "markdown",
   "id": "d31af1df",
   "metadata": {},
   "source": [
    "- Ckech data range for each variables."
   ]
  },
  {
   "cell_type": "code",
   "execution_count": 116,
   "id": "0db679dd-41f4-4a8e-b45c-ae1a399c3e08",
   "metadata": {},
   "outputs": [
    {
     "name": "stdout",
     "output_type": "stream",
     "text": [
      "       year_of_observation  insured_period  residential  building_dimension  \\\n",
      "count          6061.000000     6061.000000   6061.00000         5959.000000   \n",
      "mean           2013.269757        0.906757      0.31282         1869.373888   \n",
      "std               1.075373        0.243540      0.46368         2268.164169   \n",
      "min            2012.000000        0.000000      0.00000            1.000000   \n",
      "25%            2012.000000        1.000000      0.00000          520.000000   \n",
      "50%            2013.000000        1.000000      0.00000         1065.000000   \n",
      "75%            2014.000000        1.000000      1.00000         2255.000000   \n",
      "max            2015.000000        1.000000      1.00000        20940.000000   \n",
      "\n",
      "       building_type        claim  \n",
      "count    6061.000000  6061.000000  \n",
      "mean        2.182808     0.231810  \n",
      "std         0.939371     0.422023  \n",
      "min         1.000000     0.000000  \n",
      "25%         2.000000     0.000000  \n",
      "50%         2.000000     0.000000  \n",
      "75%         3.000000     0.000000  \n",
      "max         4.000000     1.000000  \n"
     ]
    }
   ],
   "source": [
    "# Summary statistics for numerical columns\n",
    "print(train_data.describe())"
   ]
  },
  {
   "cell_type": "code",
   "execution_count": 117,
   "id": "b95ef854",
   "metadata": {},
   "outputs": [
    {
     "data": {
      "image/png": "[encoded data removed]",
      "text/plain": [
       "<Figure size 640x480 with 1 Axes>"
      ]
     },
     "metadata": {},
     "output_type": "display_data"
    }
   ],
   "source": [
    "# Plot the distribution of the target variable\n",
    "sns.countplot(x='claim', data=train_data)\n",
    "plt.title('Distribution of Claims')\n",
    "plt.show()"
   ]
  },
  {
   "cell_type": "markdown",
   "id": "a6eabec9",
   "metadata": {},
   "source": [
    "- Convert categorical columns"
   ]
  },
  {
   "cell_type": "code",
   "execution_count": 119,
   "id": "1aa77f16",
   "metadata": {},
   "outputs": [],
   "source": [
    "# Convert categorical columns to category type\n",
    "categorical_columns = ['residential', 'building_painted', 'building_fenced', 'garden', 'settlement', 'building_type']\n",
    "\n",
    "for col in categorical_columns:\n",
    "    train_data[col] = train_data[col].astype('category')\n",
    "\n",
    "# Convert 'geo_code' to categorical if it's categorical\n",
    "# train_data['geo_code'] = train_data['geo_code'].astype('category')\n",
    "\n",
    "# Convert 'claim' column to categorical data type\n",
    "# train_data['claim'] = train_data['claim'].astype('category')"
   ]
  },
  {
   "cell_type": "markdown",
   "id": "d7ccc988",
   "metadata": {},
   "source": [
    "- Check Variables types"
   ]
  },
  {
   "cell_type": "code",
   "execution_count": 120,
   "id": "84588910",
   "metadata": {},
   "outputs": [
    {
     "name": "stdout",
     "output_type": "stream",
     "text": [
      "customer_id                    object\n",
      "year_of_observation             int64\n",
      "insured_period                float64\n",
      "residential                  category\n",
      "building_painted             category\n",
      "building_fenced              category\n",
      "garden                       category\n",
      "settlement                   category\n",
      "building_dimension            float64\n",
      "building_type                category\n",
      "date_of_occupancy      datetime64[ns]\n",
      "number_of_windows              object\n",
      "geo_code                       object\n",
      "claim                           int64\n",
      "dtype: object\n"
     ]
    }
   ],
   "source": [
    "# Verify data types to make sure all categorical columns are strings\n",
    "print(train_data.dtypes)"
   ]
  },
  {
   "cell_type": "markdown",
   "id": "0830c9f7",
   "metadata": {},
   "source": [
    "### Missing Value: "
   ]
  },
  {
   "cell_type": "markdown",
   "id": "b16420b1",
   "metadata": {},
   "source": [
    "- Check missing for each variables."
   ]
  },
  {
   "cell_type": "code",
   "execution_count": 52,
   "id": "55df2c49-3eba-449a-9b1c-ebf3355fefe0",
   "metadata": {},
   "outputs": [
    {
     "name": "stdout",
     "output_type": "stream",
     "text": [
      "customer_id              0\n",
      "year_of_observation      0\n",
      "insured_period           0\n",
      "residential              0\n",
      "building_painted         0\n",
      "building_fenced          0\n",
      "garden                   7\n",
      "settlement               0\n",
      "building_dimension     102\n",
      "building_type            0\n",
      "date_of_occupancy      459\n",
      "number_of_windows        0\n",
      "geo_code                98\n",
      "claim                    0\n",
      "dtype: int64\n"
     ]
    }
   ],
   "source": [
    "# Check for missing values in each column\n",
    "print(train_data.isnull().sum())"
   ]
  },
  {
   "cell_type": "markdown",
   "id": "747f064a",
   "metadata": {},
   "source": [
    "- Plot misssing Value for each variable"
   ]
  },
  {
   "cell_type": "code",
   "execution_count": 45,
   "id": "205dcc73",
   "metadata": {},
   "outputs": [
    {
     "data": {
      "image/png": "[encoded data removed]",
      "text/plain": [
       "<Figure size 1000x800 with 1 Axes>"
      ]
     },
     "metadata": {},
     "output_type": "display_data"
    }
   ],
   "source": [
    "# Check for missing values\n",
    "missing_values = train_data.isnull().sum()\n",
    "\n",
    "# Create a DataFrame for plotting\n",
    "missing_df = pd.DataFrame({\n",
    "    'Columns': missing_values.index,\n",
    "    'Missing Values': missing_values.values\n",
    "})\n",
    "\n",
    "# Plot the missing values\n",
    "plt.figure(figsize=(10, 8))\n",
    "barplot = sns.barplot(x='Columns', y='Missing Values', data=missing_df)\n",
    "plt.title('Distribution of Missing Values Across Features')\n",
    "# Annotate each bar with the count of missing values\n",
    "for p in barplot.patches:\n",
    "    barplot.annotate(format(p.get_height(), '.0f'),\n",
    "                (p.get_x() + p.get_width() / 2., p.get_height()),\n",
    "                    ha = 'center', va = 'center',\n",
    "                    xytext = (0, 9), textcoords = 'offset points')\n",
    "plt.show()"
   ]
  },
  {
   "cell_type": "markdown",
   "id": "ceb7fdc1",
   "metadata": {},
   "source": [
    "- **As the information above, found missing data into Four columns building_dimension, date_of_occupancy, garden and geo_code.**\n",
    "\n",
    "    - For (building_dimension) column, there are 102 missing value of 6117.\n",
    "    - For (date_of_occupancy) column, there are 459 missing value of 6117.\n",
    "    - For (garden) column, there are 7 missing value of 6117.\n",
    "    - for (geo_code) column, there are 98 missing value of 6117."
   ]
  },
  {
   "cell_type": "markdown",
   "id": "27b243f5",
   "metadata": {},
   "source": [
    "#### Impute Missing Value:"
   ]
  },
  {
   "cell_type": "markdown",
   "id": "bd895fd0",
   "metadata": {},
   "source": [
    "- Impute Numrerical variables"
   ]
  },
  {
   "cell_type": "code",
   "execution_count": 39,
   "id": "56f3e9e3-446e-438b-a689-ce1ac175c22c",
   "metadata": {},
   "outputs": [],
   "source": [
    "# Fill missing numeric values with the mean of the numeric columns\n",
    "numeric_columns = train_data.select_dtypes(include=['number']).columns\n",
    "train_data[numeric_columns] = train_data[numeric_columns].fillna(train_data[numeric_columns].mean())\n"
   ]
  },
  {
   "cell_type": "markdown",
   "id": "855f476a",
   "metadata": {},
   "source": [
    "- Impute Categorical variables"
   ]
  },
  {
   "cell_type": "code",
   "execution_count": 104,
   "id": "6e3f5510-a2b8-402a-9614-b9d8beb15c55",
   "metadata": {},
   "outputs": [],
   "source": [
    "# Fill missing categorical values with the most frequent value (mode)\n",
    "categorical_columns = train_data.select_dtypes(include=['category', 'object']).columns\n",
    "train_data[categorical_columns] = train_data[categorical_columns].apply(lambda x: x.fillna(x.mode()[0]))"
   ]
  },
  {
   "cell_type": "code",
   "execution_count": null,
   "id": "c79fb9cd-7811-404b-9976-e11e3094e23d",
   "metadata": {},
   "outputs": [],
   "source": [
    "# Check for missing values in each column\n",
    "print(train_data.isnull().sum())"
   ]
  },
  {
   "cell_type": "markdown",
   "id": "ea921f5f",
   "metadata": {},
   "source": [
    "### Correlation: "
   ]
  },
  {
   "cell_type": "markdown",
   "id": "23ec6115",
   "metadata": {},
   "source": [
    "- Compute the correlation matrix"
   ]
  },
  {
   "cell_type": "code",
   "execution_count": 121,
   "id": "ae8f6384",
   "metadata": {},
   "outputs": [
    {
     "name": "stdout",
     "output_type": "stream",
     "text": [
      "year_of_observation   -0.001458\n",
      "insured_period         0.089378\n",
      "building_dimension     0.297562\n",
      "claim                  1.000000\n",
      "Name: claim, dtype: float64\n"
     ]
    },
    {
     "name": "stderr",
     "output_type": "stream",
     "text": [
      "C:\\Users\\Engbo\\AppData\\Local\\Temp\\ipykernel_27720\\1708024395.py:2: FutureWarning: The default value of numeric_only in DataFrame.corr is deprecated. In a future version, it will default to False. Select only valid columns or specify the value of numeric_only to silence this warning.\n",
      "  correlation_matrix = train_data.corr()['claim']\n"
     ]
    }
   ],
   "source": [
    "# Step 1: Compute the correlation matrix\n",
    "correlation_matrix = train_data.corr()['claim']\n",
    "\n",
    "print(correlation_matrix)\n",
    "\n",
    "# Visualize the correlation matrix\n",
    "#plt.figure(figsize=(10, 8))  # Set the figure size\n",
    "#sns.heatmap(correlation_matrix, annot=True, cmap='coolwarm', fmt='.2f', linewidths=0.5)\n",
    "#plt.title('Correlation Matrix Heatmap')\n",
    "#plt.show()"
   ]
  },
  {
   "cell_type": "markdown",
   "id": "0d0c4840",
   "metadata": {},
   "source": [
    "# Part 2:  MODELING: "
   ]
  },
  {
   "cell_type": "markdown",
   "id": "ba09c899",
   "metadata": {},
   "source": [
    "- **Logistic Regression:** linear model that predicts the probability of a binary outcome\n",
    "    - Linearly separable data: Logistic regression performs well when the data is linearly separable\n",
    "    - The relationship between the features and target is likely linear\n",
    "\n",
    "- **Support Vector Machine (SVM):** is a powerful classification algorithm that aims to find the hyperplane that maximizes the margin between two classes.\n",
    "    - It can handle both linear and non-linear relationships.\n",
    "    - Feature scaling: is necessary before applying the model.\n",
    "    - Class imbalance: is necessary to fix class imbalance before apply SMV model.\n",
    "\n",
    "- **Random Forest:** is an ensemble learning algorithm that builds multiple decision trees and aggregates their predictions.\n",
    "    - Random Forest can model complex, non-linear decision boundaries.\n",
    "    - Feature importance: Random Forest provides a way to measure feature importance.\n",
    "    - Handling missing data: Random Forest can handle missing data in the input features and can also deal with categorical features directly.\n",
    "    - Imbalanced data: Random Forest can be sensitive to class imbalances\n",
    "\n",
    "- **DecisionTree:** DT algorithm can be effectively used for a binary classification task\n",
    "    - Decision Trees are non-linear models that can capture complex relationships between features and the target variable.\n",
    "    - Decision Trees are well-suited for binary-classification problem, as they can iteratively split the data until each node corresponds to a specific class.\n",
    "    - No Need for Feature Scaling.\n",
    "    - Handling Missing Values: Decision Trees can handle missing values relatively well by splitting based on available information."
   ]
  },
  {
   "cell_type": "markdown",
   "id": "3c2583e9",
   "metadata": {},
   "source": [
    "### 1. Spliting Dataset"
   ]
  },
  {
   "cell_type": "markdown",
   "id": "ce152a43",
   "metadata": {},
   "source": [
    "- Splits the Training dataset into training and validation sets using the train_test_split"
   ]
  },
  {
   "cell_type": "code",
   "execution_count": 122,
   "id": "4ad7ca42",
   "metadata": {},
   "outputs": [],
   "source": [
    "# Split the data into training and validation sets\n",
    "X = train_data.drop(columns=['claim'])\n",
    "y = train_data['claim']\n",
    "X_train, X_val, y_train, y_val = train_test_split(X, y, test_size=0.2, random_state=42)"
   ]
  },
  {
   "cell_type": "markdown",
   "id": "a595f899",
   "metadata": {},
   "source": [
    "### 2. Baseline Model "
   ]
  },
  {
   "cell_type": "markdown",
   "id": "ca350ac9",
   "metadata": {},
   "source": [
    "- **Pipline:** the pipline include three process, which are:\n",
    "\n",
    "    1. **Impute Missing Value:** Impute missing data.\n",
    "    2. **Data Normalizing:** Normalize data.\n",
    "    3. **Model Fitting:** Use LogisticRegression as base model.\n",
    "\n",
    "- **Evaluate Model:**"
   ]
  },
  {
   "cell_type": "code",
   "execution_count": 140,
   "id": "f94e3476",
   "metadata": {},
   "outputs": [
    {
     "name": "stdout",
     "output_type": "stream",
     "text": [
      "Mean ROC AUC: 0.699\n",
      "Test ROC AUC: 0.726\n"
     ]
    }
   ],
   "source": [
    "from sklearn.model_selection import RepeatedStratifiedKFold\n",
    "from sklearn.model_selection import cross_val_score\n",
    "from sklearn.pipeline import Pipeline\n",
    "from sklearn.preprocessing import StandardScaler\n",
    "from sklearn.linear_model import LogisticRegression\n",
    "from sklearn.impute import SimpleImputer\n",
    "\n",
    "# Initialize and train Logistic Regression\n",
    "#baseline_model = LogisticRegression(class_weight='balanced')\n",
    "baseline_pipline = Pipeline([\n",
    "    ('impute_missing', SimpleImputer(strategy='mean')),\n",
    "    ('scaller', StandardScaler()),\n",
    "    ('model', LogisticRegression(class_weight='balanced'))\n",
    "])\n",
    "\n",
    "cv = RepeatedStratifiedKFold(n_splits=10, n_repeats=3, random_state=1)\n",
    "scores = cross_val_score(baseline_pipline, X_train[['building_dimension','building_type']], y_train, scoring='roc_auc', cv=cv, n_jobs=-1)\n",
    "print('Mean ROC AUC: %.3f' % np.mean(scores))\n",
    "# baseline_model.fit(X_train, y_train)\n",
    "\n",
    "# Make predictions on the validation set\n",
    "#y_pred_proba = baseline_model.predict_proba(X_val)[:, 1]\n",
    "\n",
    "# Calculate AUC-ROC\n",
    "#auc_baseline = roc_auc_score(y_val, y_pred_proba)\n",
    "#print(f'Baseline Model AUC-ROC: {auc_baseline:.4f}')\n",
    "\n",
    "# Fit the pipeline on the entire training data\n",
    "baseline_pipline.fit(X_train[['building_dimension', 'building_type']], y_train)\n",
    "\n",
    "# Predict probabilities on the test data\n",
    "base_pred_proba = baseline_pipline.predict_proba(X_val[['building_dimension', 'building_type']])[:, 1]\n",
    "\n",
    "# Evaluate the model using ROC AUC score\n",
    "roc_auc = roc_auc_score(y_val, base_pred_proba)\n",
    "print('Test ROC AUC: %.3f' % roc_auc)"
   ]
  },
  {
   "cell_type": "markdown",
   "id": "57a0ab8b",
   "metadata": {},
   "source": [
    "### 3. Improved Model"
   ]
  },
  {
   "cell_type": "markdown",
   "id": "22a0b99e",
   "metadata": {},
   "source": [
    "- **Pipline:** the pipline include three process, which are:\n",
    "    1. **Impute Missing Value:** Impute missing data.\n",
    "    2. **Data Normalizing:** Normalize data.\n",
    "    3. **Model Fitting:** Use RandomForest as improved model.\n",
    "\n",
    "- Evaluate model"
   ]
  },
  {
   "cell_type": "code",
   "execution_count": 138,
   "id": "7c3381d3",
   "metadata": {},
   "outputs": [
    {
     "name": "stdout",
     "output_type": "stream",
     "text": [
      "Test ROC AUC: 0.666\n",
      "Test Precision: 0.385\n",
      "Test Recall: 0.469\n",
      "Test F1 Score: 0.423\n",
      "Best Parameters: {'model__max_depth': 10, 'model__min_samples_leaf': 2, 'model__min_samples_split': 5, 'model__n_estimators': 100}\n",
      "Best ROC AUC from Grid Search: 0.651\n"
     ]
    }
   ],
   "source": [
    "from sklearn.metrics import roc_auc_score, precision_score, recall_score, f1_score\n",
    "from sklearn.model_selection import GridSearchCV, RepeatedStratifiedKFold, cross_val_score\n",
    "\n",
    "\n",
    "improved_pipline = Pipeline([\n",
    "    ('impute_missing', SimpleImputer(strategy='mean')),\n",
    "    ('scaller', StandardScaler()),\n",
    "    ('model', RandomForestClassifier(class_weight='balanced'))\n",
    "])\n",
    "\n",
    "# Define the parameter grid\n",
    "param_grid = {\n",
    "    'model__n_estimators': [50, 100],\n",
    "    'model__max_depth': [10, 20],\n",
    "    'model__min_samples_split': [2, 5],\n",
    "    'model__min_samples_leaf': [1, 2]\n",
    "}\n",
    "\n",
    "# Set up the cross-validation strategy\n",
    "cv = RepeatedStratifiedKFold(n_splits=10, n_repeats=3, random_state=1)\n",
    "\n",
    "# Initialize GridSearchCV\n",
    "grid_search = GridSearchCV(estimator= improved_pipline, param_grid=param_grid, scoring='roc_auc', cv=cv, n_jobs=-1)\n",
    "\n",
    "# Fit GridSearchCV on the training data\n",
    "grid_search.fit(X_train[['building_dimension', 'building_type']], y_train)\n",
    "\n",
    "# Use the best estimator to predict probabilities on the validation data\n",
    "best_pipeline = grid_search.best_estimator_\n",
    "improved_pred_proba = best_pipeline.predict_proba(X_val[['building_dimension', 'building_type']])[:, 1]\n",
    "\n",
    "# Predict class labels on the validation data\n",
    "improved_pred_labels = best_pipeline.predict(X_val[['building_dimension', 'building_type']])\n",
    "\n",
    "# EVALUATION: Evaluate the model using ROC AUC score.\n",
    "roc_auc = roc_auc_score(y_val, improved_pred_proba)\n",
    "print('Test ROC AUC: %.3f' % roc_auc)\n",
    "\n",
    "# EVALUATION: Evaluate the model using three metrics, which are Precision, Recall, and F1 Score.\n",
    "precision = precision_score(y_val, improved_pred_labels)\n",
    "recall = recall_score(y_val, improved_pred_labels)\n",
    "f1 = f1_score(y_val, improved_pred_labels)\n",
    "\n",
    "print('Test Precision: %.3f' % precision)\n",
    "print('Test Recall: %.3f' % recall)\n",
    "print('Test F1 Score: %.3f' % f1)\n",
    "\n",
    "# Print the best parameters and the best ROC AUC score from Grid Search\n",
    "print('Best Parameters:', grid_search.best_params_)\n",
    "print('Best ROC AUC from Grid Search: %.3f' % grid_search.best_score_)"
   ]
  }
 ],
 "metadata": {
  "kernelspec": {
   "display_name": "Python 3 (ipykernel)",
   "language": "python",
   "name": "python3"
  },
  "language_info": {
   "codemirror_mode": {
    "name": "ipython",
    "version": 3
   },
   "file_extension": ".py",
   "mimetype": "text/x-python",
   "name": "python",
   "nbconvert_exporter": "python",
   "pygments_lexer": "ipython3",
   "version": "3.11.2"
  }
 },
 "nbformat": 4,
 "nbformat_minor": 5
}
