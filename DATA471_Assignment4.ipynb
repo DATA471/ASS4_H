{
 "cells": [
  {
   "cell_type": "markdown",
   "id": "0677e0b5",
   "metadata": {},
   "source": [
    "- DATA471 - Assginment 4\n",
    "- Name: Heba Aleterji"
   ]
  },
  {
   "cell_type": "markdown",
   "id": "b4c53437",
   "metadata": {},
   "source": [
    "# Part 1:  EDA"
   ]
  },
  {
   "cell_type": "markdown",
   "id": "ba5560d4",
   "metadata": {},
   "source": [
    "### Import Library "
   ]
  },
  {
   "cell_type": "code",
   "execution_count": 3,
   "id": "b74c0da2-6591-442c-9884-e62b19386f55",
   "metadata": {},
   "outputs": [],
   "source": [
    "import pandas as pd\n",
    "import numpy as np\n",
    "import seaborn as sns\n",
    "import matplotlib.pyplot as plt\n",
    "from sklearn.model_selection import train_test_split\n",
    "from sklearn.linear_model import LogisticRegression\n",
    "from sklearn.metrics import roc_auc_score\n",
    "from sklearn.ensemble import RandomForestClassifier"
   ]
  },
  {
   "cell_type": "markdown",
   "id": "b99ab053",
   "metadata": {},
   "source": [
    "### Reading dataset"
   ]
  },
  {
   "cell_type": "markdown",
   "id": "4d226814",
   "metadata": {},
   "source": [
    "Load two dataset CSV files into pandas DataFrames:\n",
    "- (train-1.csv) for training and exvaluation the model \n",
    "- (test-1.csv) for testing model geeralization on unseen dta  "
   ]
  },
  {
   "cell_type": "code",
   "execution_count": 59,
   "id": "47f70fdb-cca6-4507-9033-57a17c9fa950",
   "metadata": {},
   "outputs": [],
   "source": [
    "# Load the dataset\n",
    "train_data = pd.read_csv('train-1.csv')\n",
    "test_data = pd.read_csv('test-1.csv')"
   ]
  },
  {
   "cell_type": "code",
   "execution_count": null,
   "id": "932aaa96-8b8f-4f68-a058-9ab3a60b1620",
   "metadata": {},
   "outputs": [],
   "source": [
    "# View the first few rows of the training data\n",
    "# print(train_data.head())"
   ]
  },
  {
   "cell_type": "markdown",
   "id": "dafaefc2",
   "metadata": {},
   "source": [
    "## Data Understanding: "
   ]
  },
  {
   "cell_type": "markdown",
   "id": "70b94841",
   "metadata": {},
   "source": [
    "#### **Data Type Summary**"
   ]
  },
  {
   "cell_type": "code",
   "execution_count": 79,
   "id": "3c2944d6-71cd-41bf-b84e-1159a4ff7638",
   "metadata": {},
   "outputs": [
    {
     "name": "stdout",
     "output_type": "stream",
     "text": [
      "<class 'pandas.core.frame.DataFrame'>\n",
      "RangeIndex: 6117 entries, 0 to 6116\n",
      "Data columns (total 14 columns):\n",
      " #   Column               Non-Null Count  Dtype  \n",
      "---  ------               --------------  -----  \n",
      " 0   customer_id          6117 non-null   object \n",
      " 1   year_of_observation  6117 non-null   int64  \n",
      " 2   insured_period       6117 non-null   float64\n",
      " 3   residential          6117 non-null   int64  \n",
      " 4   building_painted     6117 non-null   object \n",
      " 5   building_fenced      6117 non-null   object \n",
      " 6   garden               6117 non-null   object \n",
      " 7   settlement           6117 non-null   object \n",
      " 8   building_dimension   6117 non-null   float64\n",
      " 9   building_type        6117 non-null   int64  \n",
      " 10  date_of_occupancy    6117 non-null   float64\n",
      " 11  number_of_windows    6117 non-null   float64\n",
      " 12  geo_code             6117 non-null   object \n",
      " 13  claim                6117 non-null   int64  \n",
      "dtypes: float64(4), int64(4), object(6)\n",
      "memory usage: 669.2+ KB\n"
     ]
    }
   ],
   "source": [
    "# Check the info and data types\n",
    "train_data.info()"
   ]
  },
  {
   "cell_type": "markdown",
   "id": "e105c48a",
   "metadata": {},
   "source": [
    "- **Dataset contain 13 variables,** 7 continuios variables and 6 categorical variables.\n",
    "- **Categorical Columns are:** customer_id, building_painted, building_fenced, garden, settlement, number_of_windows\n",
    "- **Numerical Columns:** year_of_observation, insured_period, residential, building_dimension, building_type, date_of_occupancy, claim.\n",
    "\n",
    "- **The dataset variables have the following meaning:**\n",
    "    1. **customer_id (object):** This column contains customer identifiers, which are stored as strings (object in pandas).\n",
    "    \n",
    "    2. **year_of_observation (int64):** This column stores the year when the observation was made as integers (int64).\n",
    "    3. **insured_period (float64):** This column represents the duration the building has been insured, stored as floating-point numbers (float64).\n",
    "    4. **residential (int64):** This integer column likely indicates a binary or categorical value (e.g., 1 for residential, 0 for non-residential) but is stored as numeric data.\n",
    "    5. **building_painted (object):** This column contains categorical data that likely indicates whether the building is painted (e.g., 'Yes' or 'No').\n",
    "    6. **building_fenced (object):** Similar to building_painted, this column holds categorical data (e.g., 'Yes' or 'No') indicating if the building is fenced, stored as strings (object).\n",
    "    7. garden (object): This categorical column indicates the presence of a garden (e.g., 'Yes' or 'No'), stored as strings (object)\n",
    "    8. **settlement (object):** This column stores categorical data related to the settlement type (e.g., 'Urban' or 'Rural').\n",
    "    9. **building_dimension (float64):** This column represents the dimensions of the building, stored as floating-point numbers (float64).\n",
    "    10. **building_type (int64):** This column stores categorical information about the type of building as integers (int64).\n",
    "    11. **date_of_occupancy (float64):** *This column records the date of occupancy, stored as a floating-point number (float64), possibly indicating a timestamp or year.*\n",
    "    12. **number_of_windows (object):** *Even though it refers to a numeric feature (number of windows), it is stored as strings (object), indicating either non-standard values (e.g., 'Unknown') or categorical data.*\n",
    "    13. **geo_code (object):** *This column holds geographic identifiers or codes, stored as strings (object), likely representing different regions or areas.*\n",
    "    14. **claim (int64):** Target varaible. it is integer column represents either No claim (0) or at least one claim over insured (1).\n",
    "    "
   ]
  },
  {
   "cell_type": "markdown",
   "id": "b45b20bc",
   "metadata": {},
   "source": [
    "#### **Unique Value:**"
   ]
  },
  {
   "cell_type": "markdown",
   "id": "041f5269",
   "metadata": {},
   "source": [
    "- *Check unique value for each variable*"
   ]
  },
  {
   "cell_type": "code",
   "execution_count": 80,
   "id": "4fa72d46",
   "metadata": {},
   "outputs": [
    {
     "name": "stdout",
     "output_type": "stream",
     "text": [
      "Column: customer_id\n",
      "Unique Values: ['H14663' 'H2037' 'H3802' ... 'H5926' 'H6537' 'H7470']\n",
      "----------------------------------------\n",
      "Column: year_of_observation\n",
      "Unique Values: [2013 2015 2014 2012]\n",
      "----------------------------------------\n",
      "Column: insured_period\n",
      "Unique Values: [1.         0.24109589 0.84383562 0.08493151 0.85753425 0.29589041\n",
      " 0.         0.91506849 0.98630137 0.16164384 0.99726027 0.09589041\n",
      " 0.66575343 0.89315069 0.58082192 0.83287671 0.26027397 0.7479452\n",
      " 0.41803279 0.10410959 0.76986301 0.02465753 0.47671233 0.86575342\n",
      " 0.55464481 0.44808743 0.50273224 0.46849315 0.79726027 0.31506849\n",
      " 0.59452055 0.74863388 0.17534247 0.11780822 0.12054795 0.49589041\n",
      " 0.91530055 0.48087432 0.78082192 0.02191781 0.24863388 0.69589041\n",
      " 0.94794521 0.50410959 0.82739726 0.52054795 0.58196721 0.16393443\n",
      " 0.86885246 0.83606557 0.98356164 0.24657534 0.79178082 0.19452055\n",
      " 0.41643836 0.95342466 0.41369863 0.25205479 0.80273973 0.38356164\n",
      " 0.96721311 0.91780822 0.25136612 0.15068493 0.48493151 0.91256831\n",
      " 0.96448087 0.62191781 0.12021858 0.63114754 0.21369863 0.92328767\n",
      " 0.3369863  0.99726776 0.32876712 0.84931507 0.84657534 0.64657534\n",
      " 0.96712329 0.27123288 0.89863014 0.33972603 0.66849315 0.50958904\n",
      " 0.78356164 0.08767123 0.03835616 0.75409836 0.29315069 0.57103825\n",
      " 0.25956284 0.75342466 0.65753425 0.44383562 0.67123288 0.72876712\n",
      " 0.16666667 0.79452055 0.35890411 0.4109589  0.18356164 0.21917808\n",
      " 0.77808219 0.32328767 0.46575342 0.22465753 0.73150685 0.19125683\n",
      " 0.46721312 0.49315068 0.97808219 0.91232877 0.90163934 0.54644809\n",
      " 0.09315068 0.5369863  0.43169399 0.36712329 0.45753425 0.95890411\n",
      " 0.25479452 0.83835616 0.08219178 0.61202186 0.80327869 0.03825137\n",
      " 0.16712329 0.12876712 0.87123288 0.74520548 0.33060109 0.0739726\n",
      " 0.07671233 0.08469945 0.15890411 0.14246575 0.23561644 0.72054794\n",
      " 0.12328767 0.53972603 0.13150685 0.89041096 0.21311475 0.83333333\n",
      " 0.61369863 0.9726776  0.77868852 0.35245902 0.58469945 0.93715847\n",
      " 0.95616438 0.48219178 0.3479452  0.18630137 0.2109589  0.45081967\n",
      " 0.95355191 0.82240437 0.75136612 0.6420765  0.96438356 0.86849315\n",
      " 0.10684932 0.23013699 0.63013699 0.88219178 0.21643836 0.81643836\n",
      " 0.10958904 0.1890411  0.8739726  0.26849315 0.75068493 0.84109589\n",
      " 0.68032787 0.82191781 0.86027397 0.59726027 0.56712329 0.43561644\n",
      " 0.54098361 0.33424657 0.63287671 0.30874317 0.43715847 0.57808219\n",
      " 0.93150685 0.32054795 0.81369863 0.7369863  0.715847   0.45355191\n",
      " 0.16438356 0.77534247 0.8        0.41530055 0.60547945 0.99453552\n",
      " 0.49726776 0.06027397 0.9260274  0.58630137 0.19726027 0.06010929\n",
      " 0.60655738 0.43835616 0.45901639 0.27671233 0.81917808 0.66666667\n",
      " 0.45479452 0.22191781 0.85479452 0.95068493 0.8442623  0.88767123\n",
      " 0.94246575 0.94520548 0.97260274 0.53551913 0.09863014 0.44535519\n",
      " 0.64109589 0.9369863  0.67486339 0.17260274 0.07103825 0.90684931\n",
      " 0.48767123 0.19672131 0.70958904 0.51780822 0.30136986 0.06557377\n",
      " 0.88493151 0.71311475 0.47123288 0.47945205 0.93424657 0.33333333\n",
      " 0.22739726 0.90136986 0.82786885 0.20547945 0.99452055 0.29508197\n",
      " 0.2        0.6630137  0.82465753 0.52328767 0.0520548  0.75616438\n",
      " 0.7890411  0.15300546 0.55616438 0.10928962 0.51092896 0.76712329\n",
      " 0.5273224  0.36164384 0.96174863 0.30054645 0.28493151 0.83879781\n",
      " 0.53424657 0.80547945 0.97534247 0.54520548 0.87978142 0.04918033\n",
      " 0.04644809 0.2630137  0.56010929 0.88251366 0.74590164 0.20821918\n",
      " 0.04109589 0.38082192 0.18082192 0.88797814 0.90958904 0.24931507\n",
      " 0.92076503 0.78961749 0.31147541 0.96164384 0.73424658 0.12295082\n",
      " 0.29041096 0.65205479 0.1369863  0.30327869 0.15846995 0.6\n",
      " 0.90983607 0.46448087 0.83013699 0.56438356 0.34520548 0.4520548\n",
      " 0.33150685 0.54371585 0.34153005 0.17759563 0.69315068 0.04383562\n",
      " 0.44931507 0.20218579 0.07945205 0.71038251 0.37808219 0.68852459\n",
      " 0.5260274  0.69863014 0.6739726  0.05191257 0.5479452  0.60382514\n",
      " 0.08196721 0.7431694  0.16986301 0.9890411  0.70218579 0.80821918\n",
      " 0.05753425 0.75956284 0.60821918 0.68219178 0.57923497 0.33879781\n",
      " 0.18032787 0.06830601 0.37260274 0.94262295 0.17213115 0.92896175\n",
      " 0.32786885 0.99178082 0.81147541 0.05479452 0.78630137 0.84699454\n",
      " 0.8109589  0.43442623 0.67759563 0.40273973 0.96986301 0.15342466\n",
      " 0.58356164 0.04657534 0.66027397 0.03561644 0.73972603 0.94535519\n",
      " 0.03013699]\n",
      "----------------------------------------\n",
      "Column: residential\n",
      "Unique Values: [0 1]\n",
      "----------------------------------------\n",
      "Column: building_painted\n",
      "Unique Values: ['N' 'V']\n",
      "----------------------------------------\n",
      "Column: building_fenced\n",
      "Unique Values: ['V' 'N']\n",
      "----------------------------------------\n",
      "Column: garden\n",
      "Unique Values: ['V' 'O']\n",
      "----------------------------------------\n",
      "Column: settlement\n",
      "Unique Values: ['U' 'R']\n",
      "----------------------------------------\n",
      "Column: building_dimension\n",
      "Unique Values: [ 290.  490.  595. ... 4207. 1775. 1017.]\n",
      "----------------------------------------\n",
      "Column: building_type\n",
      "Unique Values: [1 2 4 3]\n",
      "----------------------------------------\n",
      "Column: date_of_occupancy\n",
      "Unique Values: [1960.         1850.         1800.         1980.         1988.\n",
      " 2013.         2011.         1550.         1900.         2007.\n",
      " 1970.         1976.         1950.         1920.         1982.\n",
      " 1972.         2010.         1971.         1995.         2006.\n",
      " 1999.         1969.         1985.         1964.89466242 1940.\n",
      " 1997.         1990.         1965.         1930.         1973.\n",
      " 1991.         1974.         1978.         1967.         1927.\n",
      " 1952.         2009.         1977.         1890.         1949.\n",
      " 1975.         1951.         2008.         2000.         1956.\n",
      " 1993.         2003.         1912.         1983.         1954.\n",
      " 1968.         2004.         1958.         1966.         1953.\n",
      " 1979.         1955.         2001.         1987.         1870.\n",
      " 1957.         1961.         1981.         2015.         1613.\n",
      " 1962.         1700.         1964.         2002.         1986.\n",
      " 1992.         2005.         2012.         1910.         1945.\n",
      " 1864.         1942.         1939.         1998.         1908.\n",
      " 1948.         1860.         1926.         1895.         2014.\n",
      " 1545.         1959.         1996.         1984.         1963.\n",
      " 1840.         1989.         1718.         1875.         1898.\n",
      " 1880.         1600.         1994.         1810.         1937.\n",
      " 1907.         1931.         1925.         1935.         1824.\n",
      " 1914.         1750.         1846.         1903.         1905.\n",
      " 1906.         1830.         1923.         1924.         1928.\n",
      " 1947.         1911.         1904.         1919.         1896.\n",
      " 1913.         1893.         1820.         1901.         1884.\n",
      " 1936.         1871.         1780.         1929.        ]\n",
      "----------------------------------------\n",
      "Column: number_of_windows\n",
      "Unique Values: [ 4.  3.  2.  5. 10.  6.  7.  8.  9.  1.]\n",
      "----------------------------------------\n",
      "Column: geo_code\n",
      "Unique Values: ['1053' '1143' 'Other' '1283' '1305' '1419' '3190' '3310' '4094' '4112'\n",
      " '4126' '5004' '5023' '5026' '5061' '5077' '5085' '5110' '5133' '5177'\n",
      " '6004' '6007' '6011' '6012' '6014' '6027' '6029' '6030' '6032' '6033'\n",
      " '6035' '6036' '6069' '6070' '6079' '6083' '6088' '6104' '6120' '6123'\n",
      " '6136' '6138' '6155' '6157' '6159' '7010' '7019' '7102' '7186' '7324'\n",
      " '8409' '10333' '10362' '10387' '11069' '11202' '11262' '11266' '11441'\n",
      " '12096' '12145' '12174' '12176' '12202' '12300' '13001' '13004' '13005'\n",
      " '13019' '13021' '13022' '13027' '13028' '13039' '13041' '13042' '13047'\n",
      " '13054' '13056' '13063' '13066' '13071' '13077' '13081' '13086' '13087'\n",
      " '13092' '13096' '13097' '13100' '13103' '13104' '13106' '13117' '13119'\n",
      " '13201' '13202' '13203' '13204' '13205' '13206' '13207' '13208' '13209'\n",
      " '13210' '13211' '13212' '13213' '13214' '13215' '13216' '13904' '14117'\n",
      " '14118' '14220' '14327' '14338' '14341' '14365' '14437' '14488' '14715'\n",
      " '15014' '16015' '16102' '16374' '17028' '17274' '17299' '17300' '17306'\n",
      " '19031' '19123' '21054' '21171' '21231' '21278' '21515' '21617' '22050'\n",
      " '22054' '22282' '24037' '25056' '25147' '25356' '25388' '26058' '26064'\n",
      " '26198' '26281' '26362' '27056' '27229' '28088' '28140' '29019' '29105'\n",
      " '29151' '29232' '29233' '29259' '30007' '30133' '30189' '30341' '30351'\n",
      " '31113' '31157' '31186' '31203' '31395' '31555' '32013' '33009' '33063'\n",
      " '33069' '33096' '33192' '33200' '33281' '33318' '33522' '33550' '33555'\n",
      " '34003' '34023' '34032' '34079' '34108' '34113' '34129' '34172' '34192'\n",
      " '34301' '34324' '34902' '35024' '35093' '35238' '35284' '35288' '35299'\n",
      " '36006' '36044' '36046' '37261' '38034' '38067' '38075' '38085' '38095'\n",
      " '38138' '38140' '38151' '38158' '38169' '38179' '38185' '38229' '38239'\n",
      " '38269' '38314' '38316' '38318' '38337' '38386' '38416' '38421' '38511'\n",
      " '38516' '38538' '38544' '38547' '38559' '38563' '38567' '38931' '39300'\n",
      " '40046' '40209' '40279' '40284' '41018' '42094' '42095' '42119' '42147'\n",
      " '42186' '42187' '42207' '42218' '42222' '42299' '43002' '43051' '43089'\n",
      " '43137' '43157' '43251' '44020' '44070' '44109' '44131' '44162' '44184'\n",
      " '44190' '45155' '45234' '46042' '46102' '47069' '49007' '50218' '50532'\n",
      " '51108' '51454' '53130' '54043' '54159' '54184' '54188' '54197' '54395'\n",
      " '54482' '54547' '55545' '56107' '56121' '56260' '57143' '57227' '57283'\n",
      " '57412' '57463' '57480' '57631' '57663' '57672' '58095' '58194' '59043'\n",
      " '59163' '59183' '59279' '59328' '59340' '59350' '59367' '59368' '59378'\n",
      " '59421' '59512' '59599' '60139' '60141' '60159' '60346' '61001' '61006'\n",
      " '61483' '62041' '62108' '62160' '62193' '62201' '62261' '62571' '62826'\n",
      " '62916' '62917' '63014' '63032' '63075' '63113' '63300' '64024' '64102'\n",
      " '64122' '64129' '64140' '64160' '64189' '64249' '64260' '64407' '64417'\n",
      " '64422' '64430' '64445' '64453' '64483' '64545' '65017' '65282' '65388'\n",
      " '65440' '66004' '66020' '66037' '66048' '66072' '66130' '66136' '66147'\n",
      " '66182' '67130' '67180' '67218' '67434' '67447' '67482' '68004' '68056'\n",
      " '68067' '68120' '68142' '68149' '68154' '68224' '68249' '68271' '68278'\n",
      " '68297' '69029' '69034' '69052' '69069' '69091' '69131' '69201' '69202'\n",
      " '69241' '69244' '69256' '69259' '69260' '69264' '69266' '69282' '69294'\n",
      " '69297' '69383' '69385' '69386' '69388' '71270' '71543' '73003' '73008'\n",
      " '73011' '73013' '73015' '73054' '73065' '73088' '73116' '73132' '73137'\n",
      " '73179' '73248' '73304' '73317' '73920' '74010' '74012' '74016' '74018'\n",
      " '74042' '74056' '74058' '74081' '74083' '74093' '74094' '74104' '74119'\n",
      " '74133' '74137' '74143' '74164' '74169' '74173' '74180' '74189' '74208'\n",
      " '74213' '74217' '74224' '74225' '74236' '74243' '74256' '74258' '74268'\n",
      " '74281' '74298' '74305' '75101' '75102' '75103' '75104' '75105' '75106'\n",
      " '75107' '75108' '75109' '75110' '75111' '75112' '75113' '75114' '75115'\n",
      " '75116' '75117' '75118' '75119' '75120' '76217' '76255' '76259' '76351'\n",
      " '76540' '76655' '76681' '77018' '77053' '77058' '77108' '77152' '77169'\n",
      " '77183' '77186' '77243' '77284' '77288' '77296' '77333' '77350' '77372'\n",
      " '77373' '77407' '77449' '77464' '77470' '77514' '78124' '78172' '78208'\n",
      " '78311' '78361' '78372' '78383' '78418' '78423' '78481' '78490' '78513'\n",
      " '78545' '78551' '78640' '78646' '78650' '78688' '80182' '80228' '80688'\n",
      " '81004' '82121' '83009' '83034' '83036' '83042' '83047' '83050' '83061'\n",
      " '83062' '83065' '83069' '83070' '83081' '83090' '83098' '83107' '83115'\n",
      " '83118' '83119' '83123' '83126' '83129' '83137' '83144' '83152' '84007'\n",
      " '84089' '84129' '84137' '85060' '85194' '86041' '86194' '87085' '88075'\n",
      " '88158' '88160' '88196' '88383' '89387' '90008' '90010' '90039' '91016'\n",
      " '91027' '91161' '91174' '91201' '91223' '91228' '91249' '91326' '91345'\n",
      " '91377' '91386' '91432' '91477' '91573' '91657' '91692' '92002' '92004'\n",
      " '92009' '92012' '92014' '92020' '92022' '92023' '92024' '92025' '92026'\n",
      " '92032' '92035' '92036' '92040' '92044' '92046' '92048' '92049' '92050'\n",
      " '92051' '92063' '92064' '92071' '92073' '92075' '92078' '93001' '93006'\n",
      " '93008' '93010' '93015' '93027' '93029' '93031' '93045' '93046' '93048'\n",
      " '93051' '93055' '93062' '93063' '93064' '93066' '93070' '93077' '93078'\n",
      " '94002' '94003' '94004' '94015' '94016' '94017' '94018' '94019' '94022'\n",
      " '94028' '94033' '94037' '94038' '94041' '94042' '94043' '94046' '94052'\n",
      " '94058' '94060' '94067' '94068' '94069' '94071' '94076' '94078' '94080'\n",
      " '94081' '95018' '95052' '95127' '95197' '95210' '95306' '95313' '95424'\n",
      " '95428' '95555' '95563' '95582' '95585' '2A004' '2A247' '2B033' '2B042'\n",
      " '2B050']\n",
      "----------------------------------------\n",
      "Column: claim\n",
      "Unique Values: [0 1]\n",
      "----------------------------------------\n"
     ]
    }
   ],
   "source": [
    "# Assuming train_data is a pandas DataFrame\n",
    "for column in train_data.columns:\n",
    "    unique_values = train_data[column].unique()\n",
    "    print(f\"Column: {column}\")\n",
    "    print(f\"Unique Values: {unique_values}\")\n",
    "    print(\"-\" * 40)"
   ]
  },
  {
   "cell_type": "markdown",
   "id": "9c29a06c",
   "metadata": {},
   "source": [
    "#### **Descriptive Statistics Summary**"
   ]
  },
  {
   "cell_type": "markdown",
   "id": "947a6890",
   "metadata": {},
   "source": [
    "- Ckech distribution of numerical variables."
   ]
  },
  {
   "cell_type": "code",
   "execution_count": 8,
   "id": "a70890a4",
   "metadata": {},
   "outputs": [
    {
     "data": {
      "text/html": [
       "<div>\n",
       "<style scoped>\n",
       "    .dataframe tbody tr th:only-of-type {\n",
       "        vertical-align: middle;\n",
       "    }\n",
       "\n",
       "    .dataframe tbody tr th {\n",
       "        vertical-align: top;\n",
       "    }\n",
       "\n",
       "    .dataframe thead th {\n",
       "        text-align: right;\n",
       "    }\n",
       "</style>\n",
       "<table border=\"1\" class=\"dataframe\">\n",
       "  <thead>\n",
       "    <tr style=\"text-align: right;\">\n",
       "      <th></th>\n",
       "      <th>year_of_observation</th>\n",
       "      <th>insured_period</th>\n",
       "      <th>residential</th>\n",
       "      <th>building_dimension</th>\n",
       "      <th>building_type</th>\n",
       "      <th>date_of_occupancy</th>\n",
       "      <th>claim</th>\n",
       "    </tr>\n",
       "  </thead>\n",
       "  <tbody>\n",
       "    <tr>\n",
       "      <th>count</th>\n",
       "      <td>6117.000000</td>\n",
       "      <td>6117.000000</td>\n",
       "      <td>6117.000000</td>\n",
       "      <td>6015.000000</td>\n",
       "      <td>6117.000000</td>\n",
       "      <td>5658.000000</td>\n",
       "      <td>6117.000000</td>\n",
       "    </tr>\n",
       "    <tr>\n",
       "      <th>mean</th>\n",
       "      <td>2013.272192</td>\n",
       "      <td>0.906808</td>\n",
       "      <td>0.309956</td>\n",
       "      <td>1879.536326</td>\n",
       "      <td>2.190289</td>\n",
       "      <td>1964.894662</td>\n",
       "      <td>0.231976</td>\n",
       "    </tr>\n",
       "    <tr>\n",
       "      <th>std</th>\n",
       "      <td>1.075760</td>\n",
       "      <td>0.243628</td>\n",
       "      <td>0.462513</td>\n",
       "      <td>2268.133418</td>\n",
       "      <td>0.938294</td>\n",
       "      <td>35.118585</td>\n",
       "      <td>0.422129</td>\n",
       "    </tr>\n",
       "    <tr>\n",
       "      <th>min</th>\n",
       "      <td>2012.000000</td>\n",
       "      <td>0.000000</td>\n",
       "      <td>0.000000</td>\n",
       "      <td>1.000000</td>\n",
       "      <td>1.000000</td>\n",
       "      <td>1545.000000</td>\n",
       "      <td>0.000000</td>\n",
       "    </tr>\n",
       "    <tr>\n",
       "      <th>25%</th>\n",
       "      <td>2012.000000</td>\n",
       "      <td>1.000000</td>\n",
       "      <td>0.000000</td>\n",
       "      <td>520.000000</td>\n",
       "      <td>2.000000</td>\n",
       "      <td>1960.000000</td>\n",
       "      <td>0.000000</td>\n",
       "    </tr>\n",
       "    <tr>\n",
       "      <th>50%</th>\n",
       "      <td>2013.000000</td>\n",
       "      <td>1.000000</td>\n",
       "      <td>0.000000</td>\n",
       "      <td>1084.000000</td>\n",
       "      <td>2.000000</td>\n",
       "      <td>1970.000000</td>\n",
       "      <td>0.000000</td>\n",
       "    </tr>\n",
       "    <tr>\n",
       "      <th>75%</th>\n",
       "      <td>2014.000000</td>\n",
       "      <td>1.000000</td>\n",
       "      <td>1.000000</td>\n",
       "      <td>2288.500000</td>\n",
       "      <td>3.000000</td>\n",
       "      <td>1980.000000</td>\n",
       "      <td>0.000000</td>\n",
       "    </tr>\n",
       "    <tr>\n",
       "      <th>max</th>\n",
       "      <td>2015.000000</td>\n",
       "      <td>1.000000</td>\n",
       "      <td>1.000000</td>\n",
       "      <td>20940.000000</td>\n",
       "      <td>4.000000</td>\n",
       "      <td>2015.000000</td>\n",
       "      <td>1.000000</td>\n",
       "    </tr>\n",
       "  </tbody>\n",
       "</table>\n",
       "</div>"
      ],
      "text/plain": [
       "       year_of_observation  insured_period  residential  building_dimension  \\\n",
       "count          6117.000000     6117.000000  6117.000000         6015.000000   \n",
       "mean           2013.272192        0.906808     0.309956         1879.536326   \n",
       "std               1.075760        0.243628     0.462513         2268.133418   \n",
       "min            2012.000000        0.000000     0.000000            1.000000   \n",
       "25%            2012.000000        1.000000     0.000000          520.000000   \n",
       "50%            2013.000000        1.000000     0.000000         1084.000000   \n",
       "75%            2014.000000        1.000000     1.000000         2288.500000   \n",
       "max            2015.000000        1.000000     1.000000        20940.000000   \n",
       "\n",
       "       building_type  date_of_occupancy        claim  \n",
       "count    6117.000000        5658.000000  6117.000000  \n",
       "mean        2.190289        1964.894662     0.231976  \n",
       "std         0.938294          35.118585     0.422129  \n",
       "min         1.000000        1545.000000     0.000000  \n",
       "25%         2.000000        1960.000000     0.000000  \n",
       "50%         2.000000        1970.000000     0.000000  \n",
       "75%         3.000000        1980.000000     0.000000  \n",
       "max         4.000000        2015.000000     1.000000  "
      ]
     },
     "execution_count": 8,
     "metadata": {},
     "output_type": "execute_result"
    }
   ],
   "source": [
    "# Summary statistics for numerical columns\n",
    "train_data.describe()"
   ]
  },
  {
   "cell_type": "markdown",
   "id": "e315e945",
   "metadata": {},
   "source": [
    "- Insights from the descriptive statistics: \n",
    "\n",
    "    - **Year of Observation:** *The dataset includes data collected between 2012 and 2015*\n",
    "\n",
    "    - **Insured Period:** *The insured period has a mean of 0.91, with a minimum of 0 and a maximum of 1.*\n",
    "    - **Building Dimension:** The building dimensions show a wide range, with a minimum value of 1 and a maximum value of 20,940.\n",
    "    - **Building Type:** The building type ranges from 1 to 4.\n",
    "    - **Date of Occupancy:** The mean year of occupancy is around 1964."
   ]
  },
  {
   "cell_type": "markdown",
   "id": "853f38d0",
   "metadata": {},
   "source": [
    "#### **Target Class Distribution**"
   ]
  },
  {
   "cell_type": "markdown",
   "id": "8caafcec",
   "metadata": {},
   "source": [
    "- Check imbalabnce in dataset, by count the number of samples for each target class"
   ]
  },
  {
   "cell_type": "code",
   "execution_count": 81,
   "id": "7d55a144",
   "metadata": {},
   "outputs": [
    {
     "name": "stdout",
     "output_type": "stream",
     "text": [
      "{0 : 4698}\n",
      "{1 : 1419}\n"
     ]
    },
    {
     "data": {
      "image/png": "[encoded data removed]",
      "text/plain": [
       "<Figure size 640x480 with 1 Axes>"
      ]
     },
     "metadata": {},
     "output_type": "display_data"
    }
   ],
   "source": [
    "import numpy as np\n",
    "\n",
    "for c in np.unique(train_data['claim']):\n",
    "    print('{%d : %d}' % (c, sum(train_data['claim']==c)))\n",
    "\n",
    "# Plot the distribution of the target variable\n",
    "sns.countplot(x='claim', data=train_data)\n",
    "plt.title('Distribution of Claims')\n",
    "plt.show()"
   ]
  },
  {
   "cell_type": "markdown",
   "id": "e3f429c6",
   "metadata": {},
   "source": [
    "- As you can see in the result, there 4698 with class 0. while class 1 account 1419 instances.\n",
    "- Thus, the dataset has imbalance issue."
   ]
  },
  {
   "cell_type": "markdown",
   "id": "67ec219b",
   "metadata": {},
   "source": [
    "#### **Missing Value:** "
   ]
  },
  {
   "cell_type": "markdown",
   "id": "4b48b696",
   "metadata": {},
   "source": [
    "- Check missing for each variables.\n",
    "- Plot misssing Value for each variable"
   ]
  },
  {
   "cell_type": "code",
   "execution_count": 68,
   "id": "a89a155a",
   "metadata": {},
   "outputs": [
    {
     "name": "stdout",
     "output_type": "stream",
     "text": [
      "customer_id            0\n",
      "year_of_observation    0\n",
      "insured_period         0\n",
      "residential            0\n",
      "building_painted       0\n",
      "building_fenced        0\n",
      "garden                 0\n",
      "settlement             0\n",
      "building_dimension     0\n",
      "building_type          0\n",
      "date_of_occupancy      0\n",
      "number_of_windows      0\n",
      "geo_code               0\n",
      "claim                  0\n",
      "dtype: int64\n"
     ]
    },
    {
     "data": {
      "image/png": "[encoded data removed]",
      "text/plain": [
       "<Figure size 1000x800 with 1 Axes>"
      ]
     },
     "metadata": {},
     "output_type": "display_data"
    }
   ],
   "source": [
    "# Check for missing values in each column\n",
    "print(train_data.isnull().sum())\n",
    "\n",
    "# Check for missing values\n",
    "missing_values = train_data.isnull().sum()\n",
    "\n",
    "# Create a DataFrame for plotting\n",
    "missing_df = pd.DataFrame({\n",
    "    'Columns': missing_values.index,\n",
    "    'Missing Values': missing_values.values\n",
    "})\n",
    "\n",
    "# Plot the missing values\n",
    "plt.figure(figsize=(10, 8))\n",
    "barplot = sns.barplot(x='Columns', y='Missing Values', data=missing_df)\n",
    "plt.title('Distribution of Missing Values Across Features')\n",
    "# Annotate each bar with the count of missing values\n",
    "for p in barplot.patches:\n",
    "    barplot.annotate(format(p.get_height(), '.0f'),\n",
    "                (p.get_x() + p.get_width() / 2., p.get_height()),\n",
    "                    ha = 'center', va = 'center',\n",
    "                    xytext = (0, 9), textcoords = 'offset points')\n",
    "plt.show()"
   ]
  },
  {
   "cell_type": "markdown",
   "id": "5417ec41",
   "metadata": {},
   "source": [
    "- **As the information above, found missing data into Four columns building_dimension, date_of_occupancy, garden and geo_code.**\n",
    "\n",
    "    - For (building_dimension) column, there are 102 missing value of 6117.\n",
    "    - For (date_of_occupancy) column, there are 459 missing value of 6117.\n",
    "    - For (garden) column, there are 7 missing value of 6117.\n",
    "    - for (geo_code) column, there are 98 missing value of 6117."
   ]
  },
  {
   "cell_type": "markdown",
   "id": "1559bcdc",
   "metadata": {},
   "source": [
    "#### **Correlation:**"
   ]
  },
  {
   "cell_type": "markdown",
   "id": "bbbbc574",
   "metadata": {},
   "source": [
    "- Compute the correlation matrix"
   ]
  },
  {
   "cell_type": "code",
   "execution_count": 77,
   "id": "b0e95ac3",
   "metadata": {},
   "outputs": [
    {
     "data": {
      "text/plain": [
       "year_of_observation   -0.001887\n",
       "insured_period         0.089251\n",
       "residential            0.061279\n",
       "building_dimension     0.296537\n",
       "building_type          0.107735\n",
       "date_of_occupancy      0.021798\n",
       "number_of_windows      0.180410\n",
       "claim                  1.000000\n",
       "Name: claim, dtype: float64"
      ]
     },
     "execution_count": 77,
     "metadata": {},
     "output_type": "execute_result"
    }
   ],
   "source": [
    "# Step 1: Compute the correlation matrix\n",
    "numeric_columns = train_data.select_dtypes(include=['int','float'])\n",
    "correlation_matrix = numeric_columns.corr()['claim']\n",
    "\n",
    "correlation_matrix\n",
    "\n",
    "# Visualize the correlation matrix\n",
    "#plt.figure(figsize=(10, 8))  # Set the figure size\n",
    "#sns.heatmap(correlation_matrix, annot=True, cmap='coolwarm', fmt='.2f', linewidths=0.5)\n",
    "#plt.title('Correlation Matrix Heatmap')\n",
    "#plt.show()"
   ]
  },
  {
   "cell_type": "markdown",
   "id": "d40108aa",
   "metadata": {},
   "source": [
    "## Date Preparation:"
   ]
  },
  {
   "cell_type": "markdown",
   "id": "31931c46",
   "metadata": {},
   "source": [
    "#### **Handling Outlier**"
   ]
  },
  {
   "cell_type": "markdown",
   "id": "b8236811",
   "metadata": {},
   "source": [
    "- Detect outliers: Use visualization methods like box plots or Z-score analysis.\n",
    "- Treat outliers: Depending on the context, either remove, transform (log transformation), or cap outliers\n",
    "- Handle (number_of_windows) variable"
   ]
  },
  {
   "cell_type": "code",
   "execution_count": 62,
   "id": "1ca3ced9",
   "metadata": {},
   "outputs": [
    {
     "name": "stdout",
     "output_type": "stream",
     "text": [
      "Cleaned 'number_of_windows' column:\n"
     ]
    }
   ],
   "source": [
    "# Function to clean the 'number_of_windows' column\n",
    "def clean_windows(value):\n",
    "    value = value.strip()  # Remove leading/trailing spaces\n",
    "    if value == '.':\n",
    "        return np.nan  # Replace non-numeric entry '.' with NaN\n",
    "    elif value == '>=10':\n",
    "        return 10  # Convert '>=10' to a numeric value (you can choose how to handle this)\n",
    "    else:\n",
    "        return pd.to_numeric(value, errors='coerce')  # Convert the rest to numeric values\n",
    "\n",
    "# Handle variable(number_of_windows): Apply the cleaning function to the 'number_of_windows' column\n",
    "train_data['number_of_windows'] = train_data['number_of_windows'].apply(clean_windows)\n",
    "\n",
    "# Display cleaned data\n",
    "print(\"Cleaned 'number_of_windows' column:\")\n"
   ]
  },
  {
   "cell_type": "markdown",
   "id": "8fccf904",
   "metadata": {},
   "source": [
    "- Handle outlier for (geo_code) variable"
   ]
  },
  {
   "cell_type": "code",
   "execution_count": 72,
   "id": "b141485b",
   "metadata": {},
   "outputs": [
    {
     "name": "stdout",
     "output_type": "stream",
     "text": [
      "Cleaned 'geo_code' column:\n"
     ]
    }
   ],
   "source": [
    "geo_code_counts = train_data['geo_code'].value_counts()\n",
    "\n",
    "# Define a threshold for rare categories (e.g., codes that appear fewer than 2 times)\n",
    "threshold = 2\n",
    "\n",
    "# Create a new column 'geo_code_cleaned' to handle rare categories\n",
    "train_data['geo_code'] = train_data['geo_code'].apply(lambda x: x if geo_code_counts[x] >= threshold else 'Other')\n",
    "\n",
    "# Display the cleaned data\n",
    "print(\"Cleaned 'geo_code' column:\")\n",
    "#print(train_data[['geo_code', 'geo_code_cleaned']])"
   ]
  },
  {
   "cell_type": "code",
   "execution_count": 73,
   "id": "d3e14e48",
   "metadata": {},
   "outputs": [
    {
     "name": "stdout",
     "output_type": "stream",
     "text": [
      "Outliers detected using IQR:\n",
      "     customer_id  year_of_observation  insured_period  residential  \\\n",
      "4          H5053                 2014        1.000000            0   \n",
      "5          H4977                 2012        1.000000            0   \n",
      "8         H19355                 2014        1.000000            0   \n",
      "9         H18601                 2015        1.000000            0   \n",
      "10        H18177                 2013        0.241096            0   \n",
      "...          ...                  ...             ...          ...   \n",
      "6010      H19208                 2015        0.000000            0   \n",
      "6011      H16413                 2014        1.000000            0   \n",
      "6012      H16739                 2012        1.000000            0   \n",
      "6013      H16740                 2013        0.969863            0   \n",
      "6014      H19773                 2015        0.153425            0   \n",
      "\n",
      "     building_painted building_fenced garden settlement  building_dimension  \\\n",
      "4                   V               N      O          R               680.0   \n",
      "5                   V               N      O          R               535.0   \n",
      "8                   V               N      O          R              2735.0   \n",
      "9                   V               N      O          R               520.0   \n",
      "10                  V               N      O          R               550.0   \n",
      "...               ...             ...    ...        ...                 ...   \n",
      "6010                V               N      O          R               500.0   \n",
      "6011                V               N      O          R              1850.0   \n",
      "6012                V               N      O          R              1775.0   \n",
      "6013                V               N      O          R              1775.0   \n",
      "6014                V               N      O          R              2444.0   \n",
      "\n",
      "      building_type  date_of_occupancy  number_of_windows geo_code  claim  \n",
      "4                 1             1800.0                3.0     1053      0  \n",
      "5                 1             1980.0                3.0     1143      0  \n",
      "8                 1             2013.0                3.0    Other      1  \n",
      "9                 1             2011.0                2.0    Other      0  \n",
      "10                1             1960.0                3.0     1283      0  \n",
      "...             ...                ...                ...      ...    ...  \n",
      "6010              3             1930.0                3.0    2B033      0  \n",
      "6011              3             2009.0                2.0    2B042      0  \n",
      "6012              3             2010.0                2.0    2B042      0  \n",
      "6013              3             2010.0                2.0    2B042      0  \n",
      "6014              3             1985.0                3.0    2B042      0  \n",
      "\n",
      "[2218 rows x 14 columns]\n",
      "Data after removing outliers (IQR method):\n",
      "     customer_id  year_of_observation  insured_period  residential  \\\n",
      "0         H14663                 2013             1.0            0   \n",
      "1          H2037                 2015             1.0            0   \n",
      "2          H3802                 2014             1.0            0   \n",
      "3          H3834                 2013             1.0            0   \n",
      "6          H7390                 2012             1.0            0   \n",
      "...          ...                  ...             ...          ...   \n",
      "6112       H5142                 2012             1.0            0   \n",
      "6113       H5290                 2012             1.0            1   \n",
      "6114       H5926                 2013             1.0            0   \n",
      "6115       H6537                 2013             1.0            0   \n",
      "6116       H7470                 2014             1.0            0   \n",
      "\n",
      "     building_painted building_fenced garden settlement  building_dimension  \\\n",
      "0                   N               V      V          U          290.000000   \n",
      "1                   V               N      O          R          490.000000   \n",
      "2                   N               V      V          U          595.000000   \n",
      "3                   V               V      V          U         2840.000000   \n",
      "6                   N               V      V          U         2830.000000   \n",
      "...               ...             ...    ...        ...                 ...   \n",
      "6112                V               V      V          U         1879.536326   \n",
      "6113                V               V      V          U         1879.536326   \n",
      "6114                V               V      V          U         1879.536326   \n",
      "6115                V               V      V          U         1879.536326   \n",
      "6116                V               V      V          U         1879.536326   \n",
      "\n",
      "      building_type  date_of_occupancy  number_of_windows geo_code  claim  \n",
      "0                 1             1960.0                4.0     1053      0  \n",
      "1                 1             1850.0                4.0     1053      0  \n",
      "2                 1             1960.0                4.0     1053      0  \n",
      "3                 1             1960.0                4.0     1053      0  \n",
      "6                 1             1988.0                4.0     1143      0  \n",
      "...             ...                ...                ...      ...    ...  \n",
      "6112              1             2001.0                4.0     6088      1  \n",
      "6113              1             2001.0                4.0     6088      0  \n",
      "6114              2             1980.0                4.0     6088      1  \n",
      "6115              1             1972.0                4.0     6088      0  \n",
      "6116              1             2004.0                4.0     6088      0  \n",
      "\n",
      "[3899 rows x 14 columns]\n"
     ]
    }
   ],
   "source": [
    "outlier_column = 'number_of_windows'\n",
    "# Calculate Q1 (25th percentile) and Q3 (75th percentile)\n",
    "Q1 = train_data[outlier_column].quantile(0.25)\n",
    "Q3 = train_data[outlier_column].quantile(0.75)\n",
    "\n",
    "# Calculate IQR\n",
    "IQR = Q3 - Q1\n",
    "\n",
    "# Define the range for detecting outliers\n",
    "lower_bound = Q1 - 1.5 * IQR\n",
    "upper_bound = Q3 + 1.5 * IQR\n",
    "\n",
    "# Detect outliers\n",
    "outliers_iqr = train_data[(train_data[outlier_column] < lower_bound) | (train_data[outlier_column] > upper_bound)]\n",
    "\n",
    "# Display outliers\n",
    "print(\"Outliers detected using IQR:\")\n",
    "print(outliers_iqr)\n",
    "\n",
    "# Treat outliers: removing rows outside the bounds\n",
    "df_iqr_cleaned = train_data[(train_data[outlier_column] >= lower_bound) & (train_data[outlier_column] <= upper_bound)]\n",
    "\n",
    "print(\"Data after removing outliers (IQR method):\")\n",
    "print(df_iqr_cleaned)"
   ]
  },
  {
   "cell_type": "markdown",
   "id": "ea209799",
   "metadata": {},
   "source": [
    "#### **Impute Missing Value**"
   ]
  },
  {
   "cell_type": "markdown",
   "id": "370b4a89",
   "metadata": {},
   "source": [
    "- Impute Numrerical variables\n",
    "- Impute Categorical variables"
   ]
  },
  {
   "cell_type": "code",
   "execution_count": null,
   "id": "7317d903",
   "metadata": {},
   "outputs": [],
   "source": [
    "# Impute (number_of_windows) missing values with replace NaN with the most frequent value \n",
    "mode_value = train_data['number_of_windows'].mode()[0]\n",
    "train_data['number_of_windows'] = train_data['number_of_windows'].fillna(mode_value)\n",
    "\n",
    "# Fill missing numeric values with the mean of the numeric columns\n",
    "numeric_columns = train_data.select_dtypes(include=['number']).columns\n",
    "train_data[numeric_columns] = train_data[numeric_columns].fillna(train_data[numeric_columns].mean())\n",
    "\n",
    "# Fill missing categorical values with the most frequent value (mode)\n",
    "categorical_columns = train_data.select_dtypes(include=['category', 'object']).columns\n",
    "train_data[categorical_columns] = train_data[categorical_columns].apply(lambda x: x.fillna(x.mode()[0]))\n",
    "\n",
    "# Check for missing values in each column\n",
    "print(train_data.isnull().sum())"
   ]
  },
  {
   "cell_type": "markdown",
   "id": "c67c12ea",
   "metadata": {},
   "source": [
    "#### **Spliting Dataset:**"
   ]
  },
  {
   "cell_type": "markdown",
   "id": "02b26bc2",
   "metadata": {},
   "source": [
    "- Splits the Training dataset into training and validation sets using the train_test_split"
   ]
  },
  {
   "cell_type": "code",
   "execution_count": 87,
   "id": "6c2dd542",
   "metadata": {},
   "outputs": [],
   "source": [
    "# Split the data into training and validation sets\n",
    "X = train_data.drop(columns=['claim'])\n",
    "y = train_data['claim']\n",
    "X_train, X_val, y_train, y_val = train_test_split(X, y, test_size=0.2, random_state=42)"
   ]
  },
  {
   "cell_type": "markdown",
   "id": "681a7ab5",
   "metadata": {},
   "source": [
    "#### **Handling Class Imbalance:** \n"
   ]
  },
  {
   "cell_type": "markdown",
   "id": "2eab7fce",
   "metadata": {},
   "source": []
  },
  {
   "cell_type": "code",
   "execution_count": 89,
   "id": "1aa77f16",
   "metadata": {},
   "outputs": [
    {
     "ename": "ModuleNotFoundError",
     "evalue": "No module named 'imblearn'",
     "output_type": "error",
     "traceback": [
      "\u001b[1;31m---------------------------------------------------------------------------\u001b[0m",
      "\u001b[1;31mModuleNotFoundError\u001b[0m                       Traceback (most recent call last)",
      "\u001b[1;32m~\\AppData\\Local\\Temp\\ipykernel_40052\\2894888653.py\u001b[0m in \u001b[0;36m<cell line: 0>\u001b[1;34m()\u001b[0m\n\u001b[1;32m----> 1\u001b[1;33m \u001b[1;32mfrom\u001b[0m \u001b[0mimblearn\u001b[0m\u001b[1;33m.\u001b[0m\u001b[0mover_sampling\u001b[0m \u001b[1;32mimport\u001b[0m \u001b[0mSMOTE\u001b[0m\u001b[1;33m\u001b[0m\u001b[1;33m\u001b[0m\u001b[0m\n\u001b[0m\u001b[0;32m      2\u001b[0m \u001b[1;33m\u001b[0m\u001b[0m\n\u001b[0;32m      3\u001b[0m \u001b[1;31m# Step 3: Apply SMOTE (Oversampling the minority class)\u001b[0m\u001b[1;33m\u001b[0m\u001b[1;33m\u001b[0m\u001b[0m\n\u001b[0;32m      4\u001b[0m \u001b[0msmote\u001b[0m \u001b[1;33m=\u001b[0m \u001b[0mSMOTE\u001b[0m\u001b[1;33m(\u001b[0m\u001b[0msampling_strategy\u001b[0m\u001b[1;33m=\u001b[0m\u001b[1;34m'auto'\u001b[0m\u001b[1;33m,\u001b[0m \u001b[0mrandom_state\u001b[0m\u001b[1;33m=\u001b[0m\u001b[1;36m42\u001b[0m\u001b[1;33m)\u001b[0m\u001b[1;33m\u001b[0m\u001b[1;33m\u001b[0m\u001b[0m\n\u001b[0;32m      5\u001b[0m \u001b[0mX_smote\u001b[0m\u001b[1;33m,\u001b[0m \u001b[0my_smote\u001b[0m \u001b[1;33m=\u001b[0m \u001b[0msmote\u001b[0m\u001b[1;33m.\u001b[0m\u001b[0mfit_resample\u001b[0m\u001b[1;33m(\u001b[0m\u001b[0mX_train\u001b[0m\u001b[1;33m,\u001b[0m \u001b[0my_train\u001b[0m\u001b[1;33m)\u001b[0m\u001b[1;33m\u001b[0m\u001b[1;33m\u001b[0m\u001b[0m\n",
      "\u001b[1;31mModuleNotFoundError\u001b[0m: No module named 'imblearn'"
     ]
    }
   ],
   "source": [
    "from imblearn.over_sampling import SMOTE\n",
    "\n",
    "# Step 3: Apply SMOTE (Oversampling the minority class)\n",
    "smote = SMOTE(sampling_strategy='auto', random_state=42)\n",
    "X_smote, y_smote = smote.fit_resample(X_train, y_train) "
   ]
  },
  {
   "cell_type": "markdown",
   "id": "8b9ec6de",
   "metadata": {},
   "source": [
    "#### **Data Type Conversion**"
   ]
  },
  {
   "cell_type": "markdown",
   "id": "4a8c95b5",
   "metadata": {},
   "source": [
    "- Convert Wrong Data Type:"
   ]
  },
  {
   "cell_type": "code",
   "execution_count": null,
   "id": "402d2073",
   "metadata": {},
   "outputs": [],
   "source": [
    "import pandas as pd\n",
    "\n",
    "# Assuming train_data is a pandas DataFrame\n",
    "\n",
    "# Function to check if a value can be converted to an integer\n",
    "def is_integer(value):\n",
    "    try:\n",
    "        int(value)\n",
    "        return True\n",
    "    except ValueError:\n",
    "        return False\n",
    "\n",
    "# Function to check if a value can be converted to a float\n",
    "def is_float(value):\n",
    "    try:\n",
    "        float(value)\n",
    "        return True\n",
    "    except ValueError:\n",
    "        return False\n",
    "\n",
    "# Remove rows with invalid data in the 'number_of_windows' column\n",
    "#train_data = train_data[train_data['number_of_windows'].apply(is_integer)]\n",
    "\n",
    "# Convert the 'number_of_windows' column to an integer data type\n",
    "#train_data['number_of_windows'] = train_data['number_of_windows'].astype(int)\n",
    "\n",
    "# Convert the 'date_of_occupancy' column to a datetime data type\n",
    "train_data['date_of_occupancy'] = pd.to_datetime(train_data['date_of_occupancy'], errors='coerce')\n",
    "\n",
    "# Remove rows with invalid data in the 'geo_code' column\n",
    "train_data = train_data[train_data['geo_code'].apply(is_float)]"
   ]
  },
  {
   "cell_type": "markdown",
   "id": "cfb4f40c",
   "metadata": {},
   "source": [
    "- Convert categorical columns"
   ]
  },
  {
   "cell_type": "code",
   "execution_count": null,
   "id": "54df1ad0",
   "metadata": {},
   "outputs": [],
   "source": [
    "# Convert categorical columns to category type\n",
    "categorical_columns = ['residential', 'building_painted', 'building_fenced', 'garden', 'settlement', 'building_type']\n",
    "\n",
    "for col in categorical_columns:\n",
    "    train_data[col] = train_data[col].astype('category')\n",
    "\n",
    "# Convert 'geo_code' to categorical if it's categorical\n",
    "# train_data['geo_code'] = train_data['geo_code'].astype('category')\n",
    "\n",
    "# Convert 'claim' column to categorical data type\n",
    "# train_data['claim'] = train_data['claim'].astype('category')"
   ]
  },
  {
   "cell_type": "markdown",
   "id": "0d0c4840",
   "metadata": {},
   "source": [
    "# Part 2:  MODELING: "
   ]
  },
  {
   "cell_type": "markdown",
   "id": "ba09c899",
   "metadata": {},
   "source": [
    "- **Logistic Regression:** linear model that predicts the probability of a binary outcome\n",
    "    - Linearly separable data: Logistic regression performs well when the data is linearly separable\n",
    "    - The relationship between the features and target is likely linear\n",
    "\n",
    "- **Support Vector Machine (SVM):** is a powerful classification algorithm that aims to find the hyperplane that maximizes the margin between two classes.\n",
    "    - It can handle both linear and non-linear relationships.\n",
    "    - Feature scaling: is necessary before applying the model.\n",
    "    - Class imbalance: is necessary to fix class imbalance before apply SMV model.\n",
    "\n",
    "- **Random Forest:** is an ensemble learning algorithm that builds multiple decision trees and aggregates their predictions.\n",
    "    - Random Forest can model complex, non-linear decision boundaries.\n",
    "    - Feature importance: Random Forest provides a way to measure feature importance.\n",
    "    - Handling missing data: Random Forest can handle missing data in the input features and can also deal with categorical features directly.\n",
    "    - Imbalanced data: Random Forest can be sensitive to class imbalances\n",
    "\n",
    "- **DecisionTree:** DT algorithm can be effectively used for a binary classification task\n",
    "    - Decision Trees are non-linear models that can capture complex relationships between features and the target variable.\n",
    "    - Decision Trees are well-suited for binary-classification problem, as they can iteratively split the data until each node corresponds to a specific class.\n",
    "    - No Need for Feature Scaling.\n",
    "    - Handling Missing Values: Decision Trees can handle missing values relatively well by splitting based on available information."
   ]
  },
  {
   "cell_type": "markdown",
   "id": "a595f899",
   "metadata": {},
   "source": [
    "### 1. Baseline Model "
   ]
  },
  {
   "cell_type": "markdown",
   "id": "ca350ac9",
   "metadata": {},
   "source": [
    "- **Pipline:** the pipline include three process, which are:\n",
    "\n",
    "    1. **Impute Missing Value:** Impute missing data.\n",
    "    2. **Data Normalizing:** Normalize data.\n",
    "    3. **Model Fitting:** Use LogisticRegression as base model.\n",
    "\n",
    "- **Evaluate Model:**"
   ]
  },
  {
   "cell_type": "code",
   "execution_count": 84,
   "id": "f94e3476",
   "metadata": {},
   "outputs": [
    {
     "name": "stdout",
     "output_type": "stream",
     "text": [
      "Mean ROC AUC: 0.706\n",
      "Test ROC AUC: 0.698\n"
     ]
    }
   ],
   "source": [
    "from sklearn.model_selection import RepeatedStratifiedKFold\n",
    "from sklearn.model_selection import cross_val_score\n",
    "from sklearn.pipeline import Pipeline\n",
    "from sklearn.preprocessing import StandardScaler\n",
    "from sklearn.linear_model import LogisticRegression\n",
    "from sklearn.impute import SimpleImputer\n",
    "\n",
    "# Initialize and train Logistic Regression\n",
    "#baseline_model = LogisticRegression(class_weight='balanced')\n",
    "baseline_pipline = Pipeline([\n",
    "    ('impute_missing', SimpleImputer(strategy='mean')),\n",
    "    ('scaller', StandardScaler()),\n",
    "    ('model', LogisticRegression(class_weight='balanced'))\n",
    "])\n",
    "\n",
    "cv = RepeatedStratifiedKFold(n_splits=10, n_repeats=3, random_state=1)\n",
    "scores = cross_val_score(baseline_pipline, X_train[['building_dimension','building_type']], y_train, scoring='roc_auc', cv=cv, n_jobs=-1)\n",
    "print('Mean ROC AUC: %.3f' % np.mean(scores))\n",
    "# baseline_model.fit(X_train, y_train)\n",
    "\n",
    "# Make predictions on the validation set\n",
    "#y_pred_proba = baseline_model.predict_proba(X_val)[:, 1]\n",
    "\n",
    "# Calculate AUC-ROC\n",
    "#auc_baseline = roc_auc_score(y_val, y_pred_proba)\n",
    "#print(f'Baseline Model AUC-ROC: {auc_baseline:.4f}')\n",
    "\n",
    "# Fit the pipeline on the entire training data\n",
    "baseline_pipline.fit(X_train[['building_dimension', 'building_type']], y_train)\n",
    "\n",
    "# Predict probabilities on the test data\n",
    "base_pred_proba = baseline_pipline.predict_proba(X_val[['building_dimension', 'building_type']])[:, 1]\n",
    "\n",
    "# Evaluate the model using ROC AUC score\n",
    "roc_auc = roc_auc_score(y_val, base_pred_proba)\n",
    "print('Test ROC AUC: %.3f' % roc_auc)"
   ]
  },
  {
   "cell_type": "markdown",
   "id": "57a0ab8b",
   "metadata": {},
   "source": [
    "### 2. Improved Model"
   ]
  },
  {
   "cell_type": "markdown",
   "id": "22a0b99e",
   "metadata": {},
   "source": [
    "- **Pipline:** the pipline include three process, which are:\n",
    "    1. **Impute Missing Value:** Impute missing data.\n",
    "    2. **Data Normalizing:** Normalize data.\n",
    "    3. **Model Fitting:** Use RandomForest as improved model.\n",
    "\n",
    "- Evaluate model"
   ]
  },
  {
   "cell_type": "code",
   "execution_count": 86,
   "id": "7c3381d3",
   "metadata": {},
   "outputs": [
    {
     "name": "stdout",
     "output_type": "stream",
     "text": [
      "Test ROC AUC: 0.635\n",
      "Test Precision: 0.361\n",
      "Test Recall: 0.409\n",
      "Test F1 Score: 0.383\n",
      "Best Parameters: {'model__max_depth': 10, 'model__min_samples_leaf': 2, 'model__min_samples_split': 5, 'model__n_estimators': 100}\n",
      "Best ROC AUC from Grid Search: 0.668\n"
     ]
    }
   ],
   "source": [
    "from sklearn.metrics import roc_auc_score, precision_score, recall_score, f1_score\n",
    "from sklearn.model_selection import GridSearchCV, RepeatedStratifiedKFold, cross_val_score\n",
    "\n",
    "\n",
    "improved_pipline = Pipeline([\n",
    "    ('impute_missing', SimpleImputer(strategy='mean')),\n",
    "    ('scaller', StandardScaler()),\n",
    "    ('model', RandomForestClassifier(class_weight='balanced'))\n",
    "])\n",
    "\n",
    "# Define the parameter grid\n",
    "param_grid = {\n",
    "    'model__n_estimators': [50, 100],\n",
    "    'model__max_depth': [10, 20],\n",
    "    'model__min_samples_split': [2, 5],\n",
    "    'model__min_samples_leaf': [1, 2]\n",
    "}\n",
    "\n",
    "# Set up the cross-validation strategy\n",
    "cv = RepeatedStratifiedKFold(n_splits=10, n_repeats=3, random_state=1)\n",
    "\n",
    "# Initialize GridSearchCV\n",
    "grid_search = GridSearchCV(estimator= improved_pipline, param_grid=param_grid, scoring='roc_auc', cv=cv, n_jobs=-1)\n",
    "\n",
    "# Fit GridSearchCV on the training data\n",
    "grid_search.fit(X_train[['building_dimension', 'building_type']], y_train)\n",
    "\n",
    "# Use the best estimator to predict probabilities on the validation data\n",
    "best_pipeline = grid_search.best_estimator_\n",
    "improved_pred_proba = best_pipeline.predict_proba(X_val[['building_dimension', 'building_type']])[:, 1]\n",
    "\n",
    "# Predict class labels on the validation data\n",
    "improved_pred_labels = best_pipeline.predict(X_val[['building_dimension', 'building_type']])\n",
    "\n",
    "# EVALUATION: Evaluate the model using ROC AUC score.\n",
    "roc_auc = roc_auc_score(y_val, improved_pred_proba)\n",
    "print('Test ROC AUC: %.3f' % roc_auc)\n",
    "\n",
    "# EVALUATION: Evaluate the model using three metrics, which are Precision, Recall, and F1 Score.\n",
    "precision = precision_score(y_val, improved_pred_labels)\n",
    "recall = recall_score(y_val, improved_pred_labels)\n",
    "f1 = f1_score(y_val, improved_pred_labels)\n",
    "\n",
    "print('Test Precision: %.3f' % precision)\n",
    "print('Test Recall: %.3f' % recall)\n",
    "print('Test F1 Score: %.3f' % f1)\n",
    "\n",
    "# Print the best parameters and the best ROC AUC score from Grid Search\n",
    "print('Best Parameters:', grid_search.best_params_)\n",
    "print('Best ROC AUC from Grid Search: %.3f' % grid_search.best_score_)"
   ]
  }
 ],
 "metadata": {
  "kernelspec": {
   "display_name": "Python 3 (ipykernel)",
   "language": "python",
   "name": "python3"
  },
  "language_info": {
   "codemirror_mode": {
    "name": "ipython",
    "version": 3
   },
   "file_extension": ".py",
   "mimetype": "text/x-python",
   "name": "python",
   "nbconvert_exporter": "python",
   "pygments_lexer": "ipython3",
   "version": "3.11.2"
  }
 },
 "nbformat": 4,
 "nbformat_minor": 5
}
